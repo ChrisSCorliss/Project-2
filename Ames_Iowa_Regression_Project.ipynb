{
 "cells": [
  {
   "cell_type": "code",
   "execution_count": 240,
   "metadata": {},
   "outputs": [],
   "source": [
    "import pandas as pd\n",
    "import matplotlib.pyplot as plt\n",
    "import seaborn as sns\n",
    "import numpy as np\n",
    "import missingno as msno\n",
    "from sklearn.preprocessing import StandardScaler, PolynomialFeatures\n",
    "from sklearn.model_selection import train_test_split\n",
    "from sklearn.model_selection import cross_val_score\n",
    "from sklearn.linear_model import LinearRegression\n",
    "from scipy import stats\n",
    "import statsmodels.api as sm\n",
    "from sklearn import metrics\n",
    "from sklearn.pipeline import Pipeline\n",
    "from sklearn.model_selection import GridSearchCV\n",
    "from sklearn.neighbors import KNeighborsClassifier\n"
   ]
  },
  {
   "cell_type": "code",
   "execution_count": 2,
   "metadata": {},
   "outputs": [],
   "source": [
    "test = pd.read_csv('test_Kaggle.csv')"
   ]
  },
  {
   "cell_type": "code",
   "execution_count": 3,
   "metadata": {},
   "outputs": [],
   "source": [
    "train = pd.read_csv('datasets/train.csv')"
   ]
  },
  {
   "cell_type": "code",
   "execution_count": 5,
   "metadata": {},
   "outputs": [],
   "source": [
    "train.replace(to_replace = {'Lot Frontage': None}, value = 0.0, inplace = True)"
   ]
  },
  {
   "cell_type": "code",
   "execution_count": 6,
   "metadata": {},
   "outputs": [],
   "source": [
    "test.replace(to_replace = {'Lot Frontage': None}, value = 0.0, inplace = True)"
   ]
  },
  {
   "cell_type": "code",
   "execution_count": 7,
   "metadata": {},
   "outputs": [],
   "source": [
    "train.replace(to_replace = {'Alley': None}, value = 'NA', inplace = True)"
   ]
  },
  {
   "cell_type": "code",
   "execution_count": 8,
   "metadata": {},
   "outputs": [],
   "source": [
    "test.replace(to_replace = {'Alley': None}, value = 'NA', inplace = True)"
   ]
  },
  {
   "cell_type": "code",
   "execution_count": 9,
   "metadata": {
    "scrolled": true
   },
   "outputs": [],
   "source": [
    "train.replace(to_replace = {'Mas Vnr Type': None}, value= 'NA', inplace = True)"
   ]
  },
  {
   "cell_type": "code",
   "execution_count": 10,
   "metadata": {},
   "outputs": [],
   "source": [
    "test.replace(to_replace = {'Mas Vnr Type': None}, value= 'NA', inplace = True)"
   ]
  },
  {
   "cell_type": "code",
   "execution_count": 11,
   "metadata": {},
   "outputs": [],
   "source": [
    "train.replace(to_replace = {'Mas Vnr Area': None}, value = 0.0, inplace= True)"
   ]
  },
  {
   "cell_type": "code",
   "execution_count": 12,
   "metadata": {},
   "outputs": [],
   "source": [
    "test.replace(to_replace = {'Mas Vnr Area': None}, value = 0.0, inplace= True)"
   ]
  },
  {
   "cell_type": "code",
   "execution_count": 13,
   "metadata": {},
   "outputs": [],
   "source": [
    "train.replace(to_replace = {'Total Bsmt SF': None}, value = 0.0, inplace = True)"
   ]
  },
  {
   "cell_type": "code",
   "execution_count": 14,
   "metadata": {},
   "outputs": [],
   "source": [
    "test.replace(to_replace = {'Total Bsmt SF': None}, value = 0.0, inplace = True)"
   ]
  },
  {
   "cell_type": "code",
   "execution_count": 15,
   "metadata": {},
   "outputs": [],
   "source": [
    "train.replace(to_replace = {'BsmtFin SF 1': None}, value = 0.0, inplace = True)"
   ]
  },
  {
   "cell_type": "code",
   "execution_count": 16,
   "metadata": {},
   "outputs": [],
   "source": [
    "test.replace(to_replace = {'BsmtFin SF 1': None}, value = 0.0, inplace = True)"
   ]
  },
  {
   "cell_type": "code",
   "execution_count": 17,
   "metadata": {},
   "outputs": [],
   "source": [
    "train.replace(to_replace = {'BsmtFin SF 2': None}, value = 0.0, inplace = True)"
   ]
  },
  {
   "cell_type": "code",
   "execution_count": 18,
   "metadata": {},
   "outputs": [],
   "source": [
    "test.replace(to_replace = {'BsmtFin SF 2': None}, value = 0.0, inplace = True)"
   ]
  },
  {
   "cell_type": "code",
   "execution_count": 19,
   "metadata": {},
   "outputs": [],
   "source": [
    "train.replace(to_replace = {'Bsmt Unf SF': None}, value = 0.0, inplace = True)"
   ]
  },
  {
   "cell_type": "code",
   "execution_count": 20,
   "metadata": {},
   "outputs": [],
   "source": [
    "test.replace(to_replace = {'Bsmt Unf SF': None}, value = 0.0, inplace = True)"
   ]
  },
  {
   "cell_type": "code",
   "execution_count": 21,
   "metadata": {},
   "outputs": [],
   "source": [
    "train.replace(to_replace = {'Bsmt Qual': None}, value = 'NA', inplace = True)"
   ]
  },
  {
   "cell_type": "code",
   "execution_count": 22,
   "metadata": {},
   "outputs": [],
   "source": [
    "test.replace(to_replace = {'Bsmt Qual': None}, value = 'NA', inplace = True)"
   ]
  },
  {
   "cell_type": "code",
   "execution_count": 23,
   "metadata": {},
   "outputs": [],
   "source": [
    "train.replace(to_replace = {'Bsmt Cond': None}, value = 'NA', inplace = True)"
   ]
  },
  {
   "cell_type": "code",
   "execution_count": 24,
   "metadata": {},
   "outputs": [],
   "source": [
    "test.replace(to_replace = {'Bsmt Cond': None}, value = 'NA', inplace = True)"
   ]
  },
  {
   "cell_type": "code",
   "execution_count": 25,
   "metadata": {},
   "outputs": [],
   "source": [
    "train.loc[1456, 'Bsmt Exposure'] = 'No'\n",
    "#no entry but basement was present"
   ]
  },
  {
   "cell_type": "code",
   "execution_count": 26,
   "metadata": {},
   "outputs": [],
   "source": [
    "train.loc[1547, 'Bsmt Exposure'] = 'No'\n",
    "#no entry but basement was present"
   ]
  },
  {
   "cell_type": "code",
   "execution_count": 27,
   "metadata": {},
   "outputs": [],
   "source": [
    "train.loc[1997, 'Bsmt Exposure'] = 'No'\n",
    "#no entry but basement was present"
   ]
  },
  {
   "cell_type": "code",
   "execution_count": 28,
   "metadata": {},
   "outputs": [],
   "source": [
    "train.replace(to_replace = {'Bsmt Exposure': None}, value = 'NA', inplace = True)"
   ]
  },
  {
   "cell_type": "code",
   "execution_count": 29,
   "metadata": {},
   "outputs": [],
   "source": [
    "test.replace(to_replace = {'Bsmt Exposure': None}, value = 'NA', inplace = True)"
   ]
  },
  {
   "cell_type": "code",
   "execution_count": 30,
   "metadata": {},
   "outputs": [],
   "source": [
    "train.replace(to_replace = {'BsmtFin Type 1': None}, value = 'NA', inplace = True)"
   ]
  },
  {
   "cell_type": "code",
   "execution_count": 31,
   "metadata": {},
   "outputs": [],
   "source": [
    "test.replace(to_replace = {'BsmtFin Type 1': None}, value = 'NA', inplace = True)"
   ]
  },
  {
   "cell_type": "code",
   "execution_count": 32,
   "metadata": {},
   "outputs": [],
   "source": [
    "train.loc[1147, 'BsmtFin Type 2'] = 'Unf'\n",
    "#no entry but basement was partially unfinished"
   ]
  },
  {
   "cell_type": "code",
   "execution_count": 33,
   "metadata": {},
   "outputs": [],
   "source": [
    "train.replace(to_replace = {'BsmtFin Type 2': None}, value = 'NA', inplace = True)"
   ]
  },
  {
   "cell_type": "code",
   "execution_count": 34,
   "metadata": {},
   "outputs": [],
   "source": [
    "test.replace(to_replace = {'BsmtFin Type 2': None}, value = 'NA', inplace = True)"
   ]
  },
  {
   "cell_type": "code",
   "execution_count": 35,
   "metadata": {},
   "outputs": [],
   "source": [
    "train.loc[616, 'Bsmt Full Bath'] = 0.0\n",
    "#no entry and has no basement"
   ]
  },
  {
   "cell_type": "code",
   "execution_count": 36,
   "metadata": {},
   "outputs": [],
   "source": [
    "train.loc[616, 'Bsmt Half Bath'] = 0.0\n",
    "#no entry and has no basement"
   ]
  },
  {
   "cell_type": "code",
   "execution_count": 37,
   "metadata": {},
   "outputs": [],
   "source": [
    "train.loc[1327, 'Bsmt Full Bath'] = 0.0\n",
    "#no entry and has no basement"
   ]
  },
  {
   "cell_type": "code",
   "execution_count": 38,
   "metadata": {},
   "outputs": [],
   "source": [
    "train.loc[1327, 'Bsmt Half Bath'] = 0.0\n",
    "#no entry and has no basement"
   ]
  },
  {
   "cell_type": "code",
   "execution_count": 39,
   "metadata": {},
   "outputs": [],
   "source": [
    "train.replace(to_replace = {'Fireplace Qu': None}, value = 'NA', inplace = True)"
   ]
  },
  {
   "cell_type": "code",
   "execution_count": 40,
   "metadata": {},
   "outputs": [],
   "source": [
    "test.replace(to_replace = {'Fireplace Qu': None}, value = 'NA', inplace = True)"
   ]
  },
  {
   "cell_type": "code",
   "execution_count": 41,
   "metadata": {},
   "outputs": [],
   "source": [
    "train.loc[1712, 'Garage Yr Blt'] = 1999\n",
    "#all the other homes that have garages built were close to their last remove/add date\n",
    "#plus the price of the home being sold in comparison to others with and without garages \n",
    "#makes me lean towards the garage was built but maybe wasnt finished"
   ]
  },
  {
   "cell_type": "code",
   "execution_count": 42,
   "metadata": {},
   "outputs": [],
   "source": [
    "train.loc[1712, 'Garage Finish'] = 'Unf'\n",
    "#since we dont have data on the size of the garage or whether or not it was finished\n",
    "#I chose to leave it unfinished"
   ]
  },
  {
   "cell_type": "code",
   "execution_count": 43,
   "metadata": {},
   "outputs": [],
   "source": [
    "train.loc[1712, 'Garage Cars']= 1.0\n",
    "#with the garage being unfinshed we can only assume it has a maximum capacity of 1"
   ]
  },
  {
   "cell_type": "code",
   "execution_count": 44,
   "metadata": {},
   "outputs": [],
   "source": [
    "train.loc[1712, 'Garage Area']= 392\n",
    "#took the avaerage of the garage area from homes in the area with simliar specs\n",
    "#and sale price and placed that into the garage area column"
   ]
  },
  {
   "cell_type": "code",
   "execution_count": 45,
   "metadata": {},
   "outputs": [],
   "source": [
    "train.loc[1712, 'Garage Qual']= 'TA'\n",
    "#since we dont have eyes on the garage and in comparison to other homes in the area we are going\n",
    "#to keep the garage condition typical/average to stay in the same ballpark as the others"
   ]
  },
  {
   "cell_type": "code",
   "execution_count": 46,
   "metadata": {},
   "outputs": [],
   "source": [
    "train.loc[1712, 'Garage Cond']= 'TA'\n",
    "#once again sticking with the same theme of keeping within the same framework\n",
    "#as other similar homes in the area"
   ]
  },
  {
   "cell_type": "code",
   "execution_count": 47,
   "metadata": {},
   "outputs": [],
   "source": [
    "train.replace(to_replace = {'Garage Type': None}, value= 'NA', inplace = True)"
   ]
  },
  {
   "cell_type": "code",
   "execution_count": 48,
   "metadata": {},
   "outputs": [],
   "source": [
    "test.replace(to_replace = {'Garage Type': None}, value= 'NA', inplace = True)"
   ]
  },
  {
   "cell_type": "code",
   "execution_count": 49,
   "metadata": {},
   "outputs": [],
   "source": [
    "train.replace(to_replace = {'Garage Yr Blt': None}, value = 0.0, inplace = True)"
   ]
  },
  {
   "cell_type": "code",
   "execution_count": 50,
   "metadata": {},
   "outputs": [],
   "source": [
    "test.replace(to_replace = {'Garage Yr Blt': None}, value = 0.0, inplace = True)"
   ]
  },
  {
   "cell_type": "code",
   "execution_count": 51,
   "metadata": {},
   "outputs": [],
   "source": [
    "train.replace(to_replace = {'Garage Finish': None}, value = 'NA', inplace = True)"
   ]
  },
  {
   "cell_type": "code",
   "execution_count": 52,
   "metadata": {},
   "outputs": [],
   "source": [
    "test.replace(to_replace = {'Garage Finish': None}, value = 'NA', inplace = True)"
   ]
  },
  {
   "cell_type": "code",
   "execution_count": 53,
   "metadata": {},
   "outputs": [],
   "source": [
    "train.replace(to_replace = {'Garage Qual': None}, value = 'NA', inplace = True)"
   ]
  },
  {
   "cell_type": "code",
   "execution_count": 54,
   "metadata": {},
   "outputs": [],
   "source": [
    "test.replace(to_replace = {'Garage Qual': None}, value = 'NA', inplace = True)"
   ]
  },
  {
   "cell_type": "code",
   "execution_count": 55,
   "metadata": {},
   "outputs": [],
   "source": [
    "train.replace(to_replace = {'Garage Cond': None}, value = 'NA', inplace = True)"
   ]
  },
  {
   "cell_type": "code",
   "execution_count": 56,
   "metadata": {},
   "outputs": [],
   "source": [
    "test.replace(to_replace = {'Garage Cond': None}, value = 'NA', inplace = True)"
   ]
  },
  {
   "cell_type": "code",
   "execution_count": 57,
   "metadata": {},
   "outputs": [],
   "source": [
    "train.replace(to_replace = {'Pool QC': None}, value = 'NA', inplace = True)"
   ]
  },
  {
   "cell_type": "code",
   "execution_count": 58,
   "metadata": {},
   "outputs": [],
   "source": [
    "test.replace(to_replace = {'Pool QC': None}, value = 'NA', inplace = True)"
   ]
  },
  {
   "cell_type": "code",
   "execution_count": 59,
   "metadata": {},
   "outputs": [],
   "source": [
    "train.replace(to_replace = {'Fence': None}, value = 'NA', inplace = True)"
   ]
  },
  {
   "cell_type": "code",
   "execution_count": 60,
   "metadata": {},
   "outputs": [],
   "source": [
    "test.replace(to_replace = {'Fence': None}, value = 'NA', inplace = True)"
   ]
  },
  {
   "cell_type": "code",
   "execution_count": 61,
   "metadata": {},
   "outputs": [],
   "source": [
    "train.replace(to_replace = {'Misc Feature': None}, value = 'NA', inplace = True)"
   ]
  },
  {
   "cell_type": "code",
   "execution_count": 62,
   "metadata": {},
   "outputs": [],
   "source": [
    "test.replace(to_replace = {'Misc Feature': None}, value = 'NA', inplace = True)"
   ]
  },
  {
   "cell_type": "code",
   "execution_count": 63,
   "metadata": {},
   "outputs": [],
   "source": [
    "train['Overall Cond'] = (train['Overall Qual'] + train['Overall Cond'])/2"
   ]
  },
  {
   "cell_type": "code",
   "execution_count": 64,
   "metadata": {},
   "outputs": [],
   "source": [
    "test['Overall Cond'] = (test['Overall Qual'] + test['Overall Cond'])/2"
   ]
  },
  {
   "cell_type": "code",
   "execution_count": 65,
   "metadata": {},
   "outputs": [],
   "source": [
    "train.drop('Overall Qual', axis = 1, inplace = True)\n",
    "#added overall condition and quality and divided by 2 to get the average of the combined\n",
    "# columns to get a overal quality of the home with both home and material and finished combined\n",
    "# dropping the Overall Qual column was need to keep out useless and redundent information"
   ]
  },
  {
   "cell_type": "code",
   "execution_count": 66,
   "metadata": {},
   "outputs": [],
   "source": [
    "test.drop('Overall Qual', axis = 1, inplace = True)\n",
    "#added overall condition and quality and divided by 2 to get the average of the combined\n",
    "# columns to get a overal quality of the home with both home and material and finished combined\n",
    "# dropping the Overall Qual column was need to keep out useless and redundent information"
   ]
  },
  {
   "cell_type": "code",
   "execution_count": 67,
   "metadata": {},
   "outputs": [],
   "source": [
    "train['Roof Style'] = train['Roof Style']+' / '+train['Roof Matl']"
   ]
  },
  {
   "cell_type": "code",
   "execution_count": 68,
   "metadata": {},
   "outputs": [],
   "source": [
    "test['Roof Style'] = test['Roof Style']+' / '+test['Roof Matl']"
   ]
  },
  {
   "cell_type": "code",
   "execution_count": 69,
   "metadata": {},
   "outputs": [],
   "source": [
    "train.drop('Roof Matl', axis = 1, inplace = True)\n",
    "#combined roof style and roof matl into one column"
   ]
  },
  {
   "cell_type": "code",
   "execution_count": 70,
   "metadata": {},
   "outputs": [],
   "source": [
    "test.drop('Roof Matl', axis = 1, inplace = True)\n",
    "#combined roof style and roof matl into one column"
   ]
  },
  {
   "cell_type": "code",
   "execution_count": 71,
   "metadata": {},
   "outputs": [],
   "source": [
    "train.rename(columns = {'Roof Style': 'Roof'}, inplace = True)\n",
    "#renamed column to make it more indicative of what is in the column"
   ]
  },
  {
   "cell_type": "code",
   "execution_count": 72,
   "metadata": {},
   "outputs": [],
   "source": [
    "test.rename(columns = {'Roof Style': 'Roof'}, inplace = True)\n",
    "#renamed column to make it more indicative of what is in the column"
   ]
  },
  {
   "cell_type": "code",
   "execution_count": 73,
   "metadata": {},
   "outputs": [],
   "source": [
    "train['Exterior 1st'] = train['Exterior 1st']+ ' / '+train['Exterior 2nd']"
   ]
  },
  {
   "cell_type": "code",
   "execution_count": 74,
   "metadata": {},
   "outputs": [],
   "source": [
    "test['Exterior 1st'] = test['Exterior 1st']+ ' / '+test['Exterior 2nd']"
   ]
  },
  {
   "cell_type": "code",
   "execution_count": 75,
   "metadata": {},
   "outputs": [],
   "source": [
    "train.drop('Exterior 2nd', axis = 1, inplace = True)\n",
    "#added exterior 1st and exterior 2nd together so no need for the exterior 2nd"
   ]
  },
  {
   "cell_type": "code",
   "execution_count": 76,
   "metadata": {},
   "outputs": [],
   "source": [
    "test.drop('Exterior 2nd', axis = 1, inplace = True)\n",
    "#added exterior 1st and exterior 2nd together so no need for the exterior 2nd"
   ]
  },
  {
   "cell_type": "code",
   "execution_count": 77,
   "metadata": {},
   "outputs": [],
   "source": [
    "train.rename(columns = {'Exterior 1st': 'Exterior'}, inplace = True)\n",
    "#renamed the column to make it more indicative of what is in the column"
   ]
  },
  {
   "cell_type": "code",
   "execution_count": 78,
   "metadata": {},
   "outputs": [],
   "source": [
    "test.rename(columns = {'Exterior 1st': 'Exterior'}, inplace = True)\n",
    "#renamed the column to make it more indicative of what is in the column"
   ]
  },
  {
   "cell_type": "code",
   "execution_count": 79,
   "metadata": {},
   "outputs": [],
   "source": [
    "train.drop('Exter Qual', axis = 1, inplace = True)\n",
    "#the exter cond is the more current version of the material condition"
   ]
  },
  {
   "cell_type": "code",
   "execution_count": 80,
   "metadata": {},
   "outputs": [],
   "source": [
    "test.drop('Exter Qual', axis = 1, inplace = True)\n",
    "#the exter cond is the more current version of the material condition"
   ]
  },
  {
   "cell_type": "code",
   "execution_count": 81,
   "metadata": {},
   "outputs": [],
   "source": [
    "train['Bsmt Full Bath'] = train['Bsmt Full Bath'] + (train['Bsmt Half Bath']/2)\n",
    "#added the two columns together to get rid of the extra columns\n",
    "#also divided the half bath by two because the value is represented by whole number but\n",
    "#represent half value"
   ]
  },
  {
   "cell_type": "code",
   "execution_count": 82,
   "metadata": {},
   "outputs": [],
   "source": [
    "test['Bsmt Full Bath'] = test['Bsmt Full Bath'] + (test['Bsmt Half Bath']/2)\n",
    "#added the two columns together to get rid of the extra columns\n",
    "#also divided the half bath by two because the value is represented by whole number but\n",
    "#represent half value"
   ]
  },
  {
   "cell_type": "code",
   "execution_count": 83,
   "metadata": {},
   "outputs": [],
   "source": [
    "train.rename(columns = {'Bsmt Full Bath': 'Bsmt Bath'}, inplace = True)\n",
    "#renamed the column to represent the true value"
   ]
  },
  {
   "cell_type": "code",
   "execution_count": 84,
   "metadata": {},
   "outputs": [],
   "source": [
    "test.rename(columns = {'Bsmt Full Bath': 'Bsmt Bath'}, inplace = True)\n",
    "#renamed the column to represent the true value"
   ]
  },
  {
   "cell_type": "code",
   "execution_count": 85,
   "metadata": {},
   "outputs": [],
   "source": [
    "train.drop('Bsmt Half Bath', axis = 1 , inplace = True)\n",
    "#dropped to remove excesses columns"
   ]
  },
  {
   "cell_type": "code",
   "execution_count": 86,
   "metadata": {},
   "outputs": [],
   "source": [
    "test.drop('Bsmt Half Bath', axis = 1 , inplace = True)\n",
    "#dropped to remove excesses columns"
   ]
  },
  {
   "cell_type": "code",
   "execution_count": 87,
   "metadata": {},
   "outputs": [],
   "source": [
    "train.drop('Garage Qual', axis = 1, inplace = True)\n",
    "#dropped because garage cond is a more up to date version of the garage condition"
   ]
  },
  {
   "cell_type": "code",
   "execution_count": 88,
   "metadata": {},
   "outputs": [],
   "source": [
    "test.drop('Garage Qual', axis = 1, inplace = True)\n",
    "#dropped because garage cond is a more up to date version of the garage condition"
   ]
  },
  {
   "cell_type": "code",
   "execution_count": 89,
   "metadata": {},
   "outputs": [],
   "source": [
    "#train[['Wood Deck SF', 'Open Porch SF', 'Enclosed Porch', '3Ssn Porch', 'Screen Porch']]"
   ]
  },
  {
   "cell_type": "code",
   "execution_count": 90,
   "metadata": {},
   "outputs": [],
   "source": [
    "train['Full Bath'] = train['Full Bath'] + (train['Half Bath']/2)\n",
    "#combined the columns to create a streamlined data frame\n",
    "#divided half bath by 2 because the values are in as whole numbers"
   ]
  },
  {
   "cell_type": "code",
   "execution_count": 91,
   "metadata": {},
   "outputs": [],
   "source": [
    "test['Full Bath'] = test['Full Bath'] + (test['Half Bath']/2)\n",
    "#combined the columns to create a streamlined data frame\n",
    "#divided half bath by 2 because the values are in as whole numbers"
   ]
  },
  {
   "cell_type": "code",
   "execution_count": 92,
   "metadata": {},
   "outputs": [],
   "source": [
    "train.rename(columns = {'Full Bath': 'Bathroom'}, inplace = True)\n",
    "#changed the name to fit the column values"
   ]
  },
  {
   "cell_type": "code",
   "execution_count": 93,
   "metadata": {},
   "outputs": [],
   "source": [
    "test.rename(columns = {'Full Bath': 'Bathroom'}, inplace = True)\n",
    "#changed the name to fit the column values"
   ]
  },
  {
   "cell_type": "code",
   "execution_count": 94,
   "metadata": {},
   "outputs": [],
   "source": [
    "train.drop('Half Bath', axis = 1, inplace = True)\n",
    "#dropped because the value got absorbed into a new column"
   ]
  },
  {
   "cell_type": "code",
   "execution_count": 95,
   "metadata": {},
   "outputs": [],
   "source": [
    "test.drop('Half Bath', axis = 1, inplace = True)\n",
    "#dropped because the value got absorbed into a new column"
   ]
  },
  {
   "cell_type": "code",
   "execution_count": 96,
   "metadata": {},
   "outputs": [],
   "source": [
    "train['Condition 1'] = train['Condition 1'] + ' / ' + train['Condition 2']\n",
    "#combined to streamline data frame"
   ]
  },
  {
   "cell_type": "code",
   "execution_count": 97,
   "metadata": {},
   "outputs": [],
   "source": [
    "test['Condition 1'] = test['Condition 1'] + ' / ' + test['Condition 2']\n",
    "#combined to streamline data frame"
   ]
  },
  {
   "cell_type": "code",
   "execution_count": 98,
   "metadata": {},
   "outputs": [],
   "source": [
    "train.rename(columns = {'Condition 1': 'Proximity'}, inplace = True)\n",
    "#changed the name to fit column values"
   ]
  },
  {
   "cell_type": "code",
   "execution_count": 99,
   "metadata": {},
   "outputs": [],
   "source": [
    "test.rename(columns = {'Condition 1': 'Proximity'}, inplace = True)\n",
    "#changed the name to fit column values"
   ]
  },
  {
   "cell_type": "code",
   "execution_count": 100,
   "metadata": {},
   "outputs": [],
   "source": [
    "train.drop('Condition 2', axis = 1, inplace = True)\n",
    "#dropped because values got absorbed into a new column"
   ]
  },
  {
   "cell_type": "code",
   "execution_count": 101,
   "metadata": {},
   "outputs": [],
   "source": [
    "test.drop('Condition 2', axis = 1, inplace = True)\n",
    "#dropped because values got absorbed into a new column"
   ]
  },
  {
   "cell_type": "code",
   "execution_count": 102,
   "metadata": {},
   "outputs": [],
   "source": [
    "train['Home Age'] = train['Yr Sold'] - train['Year Built']"
   ]
  },
  {
   "cell_type": "code",
   "execution_count": 103,
   "metadata": {},
   "outputs": [],
   "source": [
    "test['Home Age'] = test['Yr Sold'] - test['Year Built']"
   ]
  },
  {
   "cell_type": "code",
   "execution_count": 213,
   "metadata": {},
   "outputs": [],
   "source": [
    "y_train = train['SalePrice']\n",
    "X_train = train[['1st Flr SF', 'Garage Cars', 'Gr Liv Area', 'Lot Area', 'Home Age', 'Mas Vnr Area', 'Total Bsmt SF', 'Bathroom', 'Bsmt Bath', 'Bedroom AbvGr', 'Fireplaces', 'Garage Area', 'Wood Deck SF', 'Open Porch SF', 'Enclosed Porch', '3Ssn Porch', 'Screen Porch', 'Pool Area', 'Misc Val']]"
   ]
  },
  {
   "cell_type": "code",
   "execution_count": 220,
   "metadata": {},
   "outputs": [],
   "source": [
    "X_test = test[['1st Flr SF', 'Garage Cars', 'Gr Liv Area', 'Lot Area', 'Home Age', 'Mas Vnr Area', 'Total Bsmt SF', 'Bathroom', 'Bsmt Bath', 'Bedroom AbvGr', 'Fireplaces', 'Garage Area', 'Wood Deck SF', 'Open Porch SF', 'Enclosed Porch', '3Ssn Porch', 'Screen Porch', 'Pool Area', 'Misc Val']]"
   ]
  },
  {
   "cell_type": "code",
   "execution_count": 215,
   "metadata": {},
   "outputs": [],
   "source": [
    "model_lr = LinearRegression()"
   ]
  },
  {
   "cell_type": "code",
   "execution_count": 216,
   "metadata": {},
   "outputs": [
    {
     "data": {
      "text/plain": [
       "LinearRegression(copy_X=True, fit_intercept=True, n_jobs=None, normalize=False)"
      ]
     },
     "execution_count": 216,
     "metadata": {},
     "output_type": "execute_result"
    }
   ],
   "source": [
    "model_lr.fit(X_train, y_train)"
   ]
  },
  {
   "cell_type": "code",
   "execution_count": 217,
   "metadata": {},
   "outputs": [
    {
     "data": {
      "text/plain": [
       "0.7771528297479801"
      ]
     },
     "execution_count": 217,
     "metadata": {},
     "output_type": "execute_result"
    }
   ],
   "source": [
    "model_lr.score(X_train, y_train)"
   ]
  },
  {
   "cell_type": "code",
   "execution_count": 218,
   "metadata": {},
   "outputs": [
    {
     "data": {
      "text/plain": [
       "0.7422181904438556"
      ]
     },
     "execution_count": 218,
     "metadata": {},
     "output_type": "execute_result"
    }
   ],
   "source": [
    "cross_val_score(model_lr, X_train, y_train, cv = 5).mean()"
   ]
  },
  {
   "cell_type": "code",
   "execution_count": 222,
   "metadata": {},
   "outputs": [],
   "source": [
    "test['SalePrice'] = model_lr.predict(X_test)"
   ]
  },
  {
   "cell_type": "code",
   "execution_count": 223,
   "metadata": {},
   "outputs": [],
   "source": [
    "submission = test[['Id', 'SalePrice']]"
   ]
  },
  {
   "cell_type": "code",
   "execution_count": 224,
   "metadata": {},
   "outputs": [],
   "source": [
    "submission.to_csv('submission.csv', index = False)\n",
    "# making the final rediction to Kaggle"
   ]
  },
  {
   "cell_type": "code",
   "execution_count": 193,
   "metadata": {},
   "outputs": [],
   "source": [
    "poly = PolynomialFeatures(interaction_only = True)"
   ]
  },
  {
   "cell_type": "code",
   "execution_count": 194,
   "metadata": {},
   "outputs": [],
   "source": [
    "X_poly = poly.fit_transform(X_train)"
   ]
  },
  {
   "cell_type": "code",
   "execution_count": 195,
   "metadata": {},
   "outputs": [
    {
     "data": {
      "text/html": [
       "<div>\n",
       "<style scoped>\n",
       "    .dataframe tbody tr th:only-of-type {\n",
       "        vertical-align: middle;\n",
       "    }\n",
       "\n",
       "    .dataframe tbody tr th {\n",
       "        vertical-align: top;\n",
       "    }\n",
       "\n",
       "    .dataframe thead th {\n",
       "        text-align: right;\n",
       "    }\n",
       "</style>\n",
       "<table border=\"1\" class=\"dataframe\">\n",
       "  <thead>\n",
       "    <tr style=\"text-align: right;\">\n",
       "      <th></th>\n",
       "      <th>1</th>\n",
       "      <th>1st Flr SF</th>\n",
       "      <th>Garage Cars</th>\n",
       "      <th>Gr Liv Area</th>\n",
       "      <th>Lot Area</th>\n",
       "      <th>Home Age</th>\n",
       "      <th>Mas Vnr Area</th>\n",
       "      <th>Total Bsmt SF</th>\n",
       "      <th>Bathroom</th>\n",
       "      <th>Bsmt Bath</th>\n",
       "      <th>Bedroom AbvGr</th>\n",
       "      <th>Fireplaces</th>\n",
       "      <th>...</th>\n",
       "      <th>Open Porch SF Pool Area</th>\n",
       "      <th>Open Porch SF Misc Val</th>\n",
       "      <th>Enclosed Porch 3Ssn Porch</th>\n",
       "      <th>Enclosed Porch Screen Porch</th>\n",
       "      <th>Enclosed Porch Pool Area</th>\n",
       "      <th>Enclosed Porch Misc Val</th>\n",
       "      <th>3Ssn Porch Screen Porch</th>\n",
       "      <th>3Ssn Porch Pool Area</th>\n",
       "      <th>3Ssn Porch Misc Val</th>\n",
       "      <th>Screen Porch Pool Area</th>\n",
       "      <th>Screen Porch Misc Val</th>\n",
       "      <th>Pool Area Misc Val</th>\n",
       "    </tr>\n",
       "  </thead>\n",
       "  <tbody>\n",
       "    <tr>\n",
       "      <th>0</th>\n",
       "      <td>1.0</td>\n",
       "      <td>725.0</td>\n",
       "      <td>2.0</td>\n",
       "      <td>1479.0</td>\n",
       "      <td>13517.0</td>\n",
       "      <td>34.0</td>\n",
       "      <td>289.0</td>\n",
       "      <td>725.0</td>\n",
       "      <td>2.5</td>\n",
       "      <td>0.0</td>\n",
       "      <td>3.0</td>\n",
       "      <td>0.0</td>\n",
       "      <td>...</td>\n",
       "      <td>0.0</td>\n",
       "      <td>0.0</td>\n",
       "      <td>0.0</td>\n",
       "      <td>0.0</td>\n",
       "      <td>0.0</td>\n",
       "      <td>0.0</td>\n",
       "      <td>0.0</td>\n",
       "      <td>0.0</td>\n",
       "      <td>0.0</td>\n",
       "      <td>0.0</td>\n",
       "      <td>0.0</td>\n",
       "      <td>0.0</td>\n",
       "    </tr>\n",
       "    <tr>\n",
       "      <th>1</th>\n",
       "      <td>1.0</td>\n",
       "      <td>913.0</td>\n",
       "      <td>2.0</td>\n",
       "      <td>2122.0</td>\n",
       "      <td>11492.0</td>\n",
       "      <td>13.0</td>\n",
       "      <td>132.0</td>\n",
       "      <td>913.0</td>\n",
       "      <td>2.5</td>\n",
       "      <td>1.0</td>\n",
       "      <td>4.0</td>\n",
       "      <td>1.0</td>\n",
       "      <td>...</td>\n",
       "      <td>0.0</td>\n",
       "      <td>0.0</td>\n",
       "      <td>0.0</td>\n",
       "      <td>0.0</td>\n",
       "      <td>0.0</td>\n",
       "      <td>0.0</td>\n",
       "      <td>0.0</td>\n",
       "      <td>0.0</td>\n",
       "      <td>0.0</td>\n",
       "      <td>0.0</td>\n",
       "      <td>0.0</td>\n",
       "      <td>0.0</td>\n",
       "    </tr>\n",
       "    <tr>\n",
       "      <th>2</th>\n",
       "      <td>1.0</td>\n",
       "      <td>1057.0</td>\n",
       "      <td>1.0</td>\n",
       "      <td>1057.0</td>\n",
       "      <td>7922.0</td>\n",
       "      <td>57.0</td>\n",
       "      <td>0.0</td>\n",
       "      <td>1057.0</td>\n",
       "      <td>1.0</td>\n",
       "      <td>1.0</td>\n",
       "      <td>3.0</td>\n",
       "      <td>0.0</td>\n",
       "      <td>...</td>\n",
       "      <td>0.0</td>\n",
       "      <td>0.0</td>\n",
       "      <td>0.0</td>\n",
       "      <td>0.0</td>\n",
       "      <td>0.0</td>\n",
       "      <td>0.0</td>\n",
       "      <td>0.0</td>\n",
       "      <td>0.0</td>\n",
       "      <td>0.0</td>\n",
       "      <td>0.0</td>\n",
       "      <td>0.0</td>\n",
       "      <td>0.0</td>\n",
       "    </tr>\n",
       "    <tr>\n",
       "      <th>3</th>\n",
       "      <td>1.0</td>\n",
       "      <td>744.0</td>\n",
       "      <td>2.0</td>\n",
       "      <td>1444.0</td>\n",
       "      <td>9802.0</td>\n",
       "      <td>4.0</td>\n",
       "      <td>0.0</td>\n",
       "      <td>384.0</td>\n",
       "      <td>2.5</td>\n",
       "      <td>0.0</td>\n",
       "      <td>3.0</td>\n",
       "      <td>0.0</td>\n",
       "      <td>...</td>\n",
       "      <td>0.0</td>\n",
       "      <td>0.0</td>\n",
       "      <td>0.0</td>\n",
       "      <td>0.0</td>\n",
       "      <td>0.0</td>\n",
       "      <td>0.0</td>\n",
       "      <td>0.0</td>\n",
       "      <td>0.0</td>\n",
       "      <td>0.0</td>\n",
       "      <td>0.0</td>\n",
       "      <td>0.0</td>\n",
       "      <td>0.0</td>\n",
       "    </tr>\n",
       "    <tr>\n",
       "      <th>4</th>\n",
       "      <td>1.0</td>\n",
       "      <td>831.0</td>\n",
       "      <td>2.0</td>\n",
       "      <td>1445.0</td>\n",
       "      <td>14235.0</td>\n",
       "      <td>110.0</td>\n",
       "      <td>0.0</td>\n",
       "      <td>676.0</td>\n",
       "      <td>2.0</td>\n",
       "      <td>0.0</td>\n",
       "      <td>3.0</td>\n",
       "      <td>0.0</td>\n",
       "      <td>...</td>\n",
       "      <td>0.0</td>\n",
       "      <td>0.0</td>\n",
       "      <td>0.0</td>\n",
       "      <td>0.0</td>\n",
       "      <td>0.0</td>\n",
       "      <td>0.0</td>\n",
       "      <td>0.0</td>\n",
       "      <td>0.0</td>\n",
       "      <td>0.0</td>\n",
       "      <td>0.0</td>\n",
       "      <td>0.0</td>\n",
       "      <td>0.0</td>\n",
       "    </tr>\n",
       "    <tr>\n",
       "      <th>...</th>\n",
       "      <td>...</td>\n",
       "      <td>...</td>\n",
       "      <td>...</td>\n",
       "      <td>...</td>\n",
       "      <td>...</td>\n",
       "      <td>...</td>\n",
       "      <td>...</td>\n",
       "      <td>...</td>\n",
       "      <td>...</td>\n",
       "      <td>...</td>\n",
       "      <td>...</td>\n",
       "      <td>...</td>\n",
       "      <td>...</td>\n",
       "      <td>...</td>\n",
       "      <td>...</td>\n",
       "      <td>...</td>\n",
       "      <td>...</td>\n",
       "      <td>...</td>\n",
       "      <td>...</td>\n",
       "      <td>...</td>\n",
       "      <td>...</td>\n",
       "      <td>...</td>\n",
       "      <td>...</td>\n",
       "      <td>...</td>\n",
       "      <td>...</td>\n",
       "    </tr>\n",
       "    <tr>\n",
       "      <th>2046</th>\n",
       "      <td>1.0</td>\n",
       "      <td>1728.0</td>\n",
       "      <td>2.0</td>\n",
       "      <td>1728.0</td>\n",
       "      <td>11449.0</td>\n",
       "      <td>1.0</td>\n",
       "      <td>0.0</td>\n",
       "      <td>1884.0</td>\n",
       "      <td>2.0</td>\n",
       "      <td>1.0</td>\n",
       "      <td>3.0</td>\n",
       "      <td>1.0</td>\n",
       "      <td>...</td>\n",
       "      <td>0.0</td>\n",
       "      <td>0.0</td>\n",
       "      <td>0.0</td>\n",
       "      <td>0.0</td>\n",
       "      <td>0.0</td>\n",
       "      <td>0.0</td>\n",
       "      <td>0.0</td>\n",
       "      <td>0.0</td>\n",
       "      <td>0.0</td>\n",
       "      <td>0.0</td>\n",
       "      <td>0.0</td>\n",
       "      <td>0.0</td>\n",
       "    </tr>\n",
       "    <tr>\n",
       "      <th>2047</th>\n",
       "      <td>1.0</td>\n",
       "      <td>861.0</td>\n",
       "      <td>2.0</td>\n",
       "      <td>861.0</td>\n",
       "      <td>12342.0</td>\n",
       "      <td>69.0</td>\n",
       "      <td>0.0</td>\n",
       "      <td>861.0</td>\n",
       "      <td>1.0</td>\n",
       "      <td>0.0</td>\n",
       "      <td>1.0</td>\n",
       "      <td>0.0</td>\n",
       "      <td>...</td>\n",
       "      <td>0.0</td>\n",
       "      <td>0.0</td>\n",
       "      <td>0.0</td>\n",
       "      <td>0.0</td>\n",
       "      <td>0.0</td>\n",
       "      <td>0.0</td>\n",
       "      <td>0.0</td>\n",
       "      <td>0.0</td>\n",
       "      <td>0.0</td>\n",
       "      <td>0.0</td>\n",
       "      <td>0.0</td>\n",
       "      <td>0.0</td>\n",
       "    </tr>\n",
       "    <tr>\n",
       "      <th>2048</th>\n",
       "      <td>1.0</td>\n",
       "      <td>1172.0</td>\n",
       "      <td>2.0</td>\n",
       "      <td>1913.0</td>\n",
       "      <td>7558.0</td>\n",
       "      <td>81.0</td>\n",
       "      <td>0.0</td>\n",
       "      <td>896.0</td>\n",
       "      <td>1.5</td>\n",
       "      <td>0.0</td>\n",
       "      <td>3.0</td>\n",
       "      <td>1.0</td>\n",
       "      <td>...</td>\n",
       "      <td>0.0</td>\n",
       "      <td>0.0</td>\n",
       "      <td>0.0</td>\n",
       "      <td>0.0</td>\n",
       "      <td>0.0</td>\n",
       "      <td>0.0</td>\n",
       "      <td>0.0</td>\n",
       "      <td>0.0</td>\n",
       "      <td>0.0</td>\n",
       "      <td>0.0</td>\n",
       "      <td>0.0</td>\n",
       "      <td>0.0</td>\n",
       "    </tr>\n",
       "    <tr>\n",
       "      <th>2049</th>\n",
       "      <td>1.0</td>\n",
       "      <td>1200.0</td>\n",
       "      <td>1.0</td>\n",
       "      <td>1200.0</td>\n",
       "      <td>10400.0</td>\n",
       "      <td>53.0</td>\n",
       "      <td>0.0</td>\n",
       "      <td>1200.0</td>\n",
       "      <td>1.0</td>\n",
       "      <td>1.0</td>\n",
       "      <td>3.0</td>\n",
       "      <td>2.0</td>\n",
       "      <td>...</td>\n",
       "      <td>0.0</td>\n",
       "      <td>0.0</td>\n",
       "      <td>0.0</td>\n",
       "      <td>0.0</td>\n",
       "      <td>0.0</td>\n",
       "      <td>0.0</td>\n",
       "      <td>0.0</td>\n",
       "      <td>0.0</td>\n",
       "      <td>0.0</td>\n",
       "      <td>0.0</td>\n",
       "      <td>0.0</td>\n",
       "      <td>0.0</td>\n",
       "    </tr>\n",
       "    <tr>\n",
       "      <th>2050</th>\n",
       "      <td>1.0</td>\n",
       "      <td>1028.0</td>\n",
       "      <td>2.0</td>\n",
       "      <td>1804.0</td>\n",
       "      <td>7500.0</td>\n",
       "      <td>11.0</td>\n",
       "      <td>0.0</td>\n",
       "      <td>994.0</td>\n",
       "      <td>2.5</td>\n",
       "      <td>0.0</td>\n",
       "      <td>3.0</td>\n",
       "      <td>1.0</td>\n",
       "      <td>...</td>\n",
       "      <td>0.0</td>\n",
       "      <td>0.0</td>\n",
       "      <td>0.0</td>\n",
       "      <td>0.0</td>\n",
       "      <td>0.0</td>\n",
       "      <td>0.0</td>\n",
       "      <td>0.0</td>\n",
       "      <td>0.0</td>\n",
       "      <td>0.0</td>\n",
       "      <td>0.0</td>\n",
       "      <td>0.0</td>\n",
       "      <td>0.0</td>\n",
       "    </tr>\n",
       "  </tbody>\n",
       "</table>\n",
       "<p>2051 rows × 191 columns</p>\n",
       "</div>"
      ],
      "text/plain": [
       "        1  1st Flr SF  Garage Cars  Gr Liv Area  Lot Area  Home Age  \\\n",
       "0     1.0       725.0          2.0       1479.0   13517.0      34.0   \n",
       "1     1.0       913.0          2.0       2122.0   11492.0      13.0   \n",
       "2     1.0      1057.0          1.0       1057.0    7922.0      57.0   \n",
       "3     1.0       744.0          2.0       1444.0    9802.0       4.0   \n",
       "4     1.0       831.0          2.0       1445.0   14235.0     110.0   \n",
       "...   ...         ...          ...          ...       ...       ...   \n",
       "2046  1.0      1728.0          2.0       1728.0   11449.0       1.0   \n",
       "2047  1.0       861.0          2.0        861.0   12342.0      69.0   \n",
       "2048  1.0      1172.0          2.0       1913.0    7558.0      81.0   \n",
       "2049  1.0      1200.0          1.0       1200.0   10400.0      53.0   \n",
       "2050  1.0      1028.0          2.0       1804.0    7500.0      11.0   \n",
       "\n",
       "      Mas Vnr Area  Total Bsmt SF  Bathroom  Bsmt Bath  Bedroom AbvGr  \\\n",
       "0            289.0          725.0       2.5        0.0            3.0   \n",
       "1            132.0          913.0       2.5        1.0            4.0   \n",
       "2              0.0         1057.0       1.0        1.0            3.0   \n",
       "3              0.0          384.0       2.5        0.0            3.0   \n",
       "4              0.0          676.0       2.0        0.0            3.0   \n",
       "...            ...            ...       ...        ...            ...   \n",
       "2046           0.0         1884.0       2.0        1.0            3.0   \n",
       "2047           0.0          861.0       1.0        0.0            1.0   \n",
       "2048           0.0          896.0       1.5        0.0            3.0   \n",
       "2049           0.0         1200.0       1.0        1.0            3.0   \n",
       "2050           0.0          994.0       2.5        0.0            3.0   \n",
       "\n",
       "      Fireplaces  ...  Open Porch SF Pool Area  Open Porch SF Misc Val  \\\n",
       "0            0.0  ...                      0.0                     0.0   \n",
       "1            1.0  ...                      0.0                     0.0   \n",
       "2            0.0  ...                      0.0                     0.0   \n",
       "3            0.0  ...                      0.0                     0.0   \n",
       "4            0.0  ...                      0.0                     0.0   \n",
       "...          ...  ...                      ...                     ...   \n",
       "2046         1.0  ...                      0.0                     0.0   \n",
       "2047         0.0  ...                      0.0                     0.0   \n",
       "2048         1.0  ...                      0.0                     0.0   \n",
       "2049         2.0  ...                      0.0                     0.0   \n",
       "2050         1.0  ...                      0.0                     0.0   \n",
       "\n",
       "      Enclosed Porch 3Ssn Porch  Enclosed Porch Screen Porch  \\\n",
       "0                           0.0                          0.0   \n",
       "1                           0.0                          0.0   \n",
       "2                           0.0                          0.0   \n",
       "3                           0.0                          0.0   \n",
       "4                           0.0                          0.0   \n",
       "...                         ...                          ...   \n",
       "2046                        0.0                          0.0   \n",
       "2047                        0.0                          0.0   \n",
       "2048                        0.0                          0.0   \n",
       "2049                        0.0                          0.0   \n",
       "2050                        0.0                          0.0   \n",
       "\n",
       "      Enclosed Porch Pool Area  Enclosed Porch Misc Val  \\\n",
       "0                          0.0                      0.0   \n",
       "1                          0.0                      0.0   \n",
       "2                          0.0                      0.0   \n",
       "3                          0.0                      0.0   \n",
       "4                          0.0                      0.0   \n",
       "...                        ...                      ...   \n",
       "2046                       0.0                      0.0   \n",
       "2047                       0.0                      0.0   \n",
       "2048                       0.0                      0.0   \n",
       "2049                       0.0                      0.0   \n",
       "2050                       0.0                      0.0   \n",
       "\n",
       "      3Ssn Porch Screen Porch  3Ssn Porch Pool Area  3Ssn Porch Misc Val  \\\n",
       "0                         0.0                   0.0                  0.0   \n",
       "1                         0.0                   0.0                  0.0   \n",
       "2                         0.0                   0.0                  0.0   \n",
       "3                         0.0                   0.0                  0.0   \n",
       "4                         0.0                   0.0                  0.0   \n",
       "...                       ...                   ...                  ...   \n",
       "2046                      0.0                   0.0                  0.0   \n",
       "2047                      0.0                   0.0                  0.0   \n",
       "2048                      0.0                   0.0                  0.0   \n",
       "2049                      0.0                   0.0                  0.0   \n",
       "2050                      0.0                   0.0                  0.0   \n",
       "\n",
       "      Screen Porch Pool Area  Screen Porch Misc Val  Pool Area Misc Val  \n",
       "0                        0.0                    0.0                 0.0  \n",
       "1                        0.0                    0.0                 0.0  \n",
       "2                        0.0                    0.0                 0.0  \n",
       "3                        0.0                    0.0                 0.0  \n",
       "4                        0.0                    0.0                 0.0  \n",
       "...                      ...                    ...                 ...  \n",
       "2046                     0.0                    0.0                 0.0  \n",
       "2047                     0.0                    0.0                 0.0  \n",
       "2048                     0.0                    0.0                 0.0  \n",
       "2049                     0.0                    0.0                 0.0  \n",
       "2050                     0.0                    0.0                 0.0  \n",
       "\n",
       "[2051 rows x 191 columns]"
      ]
     },
     "execution_count": 195,
     "metadata": {},
     "output_type": "execute_result"
    }
   ],
   "source": [
    "pd.DataFrame(X_poly, columns = poly.get_feature_names(['1st Flr SF', 'Garage Cars', 'Gr Liv Area', 'Lot Area', 'Home Age', 'Mas Vnr Area', 'Total Bsmt SF', 'Bathroom', 'Bsmt Bath', 'Bedroom AbvGr', 'Fireplaces', 'Garage Area', 'Wood Deck SF', 'Open Porch SF', 'Enclosed Porch', '3Ssn Porch', 'Screen Porch', 'Pool Area', 'Misc Val']))"
   ]
  },
  {
   "cell_type": "code",
   "execution_count": 196,
   "metadata": {},
   "outputs": [],
   "source": [
    "model_ss = StandardScaler()"
   ]
  },
  {
   "cell_type": "code",
   "execution_count": 197,
   "metadata": {},
   "outputs": [
    {
     "data": {
      "text/plain": [
       "StandardScaler(copy=True, with_mean=True, with_std=True)"
      ]
     },
     "execution_count": 197,
     "metadata": {},
     "output_type": "execute_result"
    }
   ],
   "source": [
    "model_ss.fit(X_train)"
   ]
  },
  {
   "cell_type": "code",
   "execution_count": 198,
   "metadata": {},
   "outputs": [
    {
     "data": {
      "text/plain": [
       "array([1.16448805e+03, 1.77620673e+00, 1.49933008e+03, 1.00652082e+04,\n",
       "       3.60667967e+01, 9.86265236e+01, 1.05747196e+03, 1.76279863e+00,\n",
       "       4.58800585e-01, 2.84349098e+00, 5.90931253e-01, 4.73631887e+02,\n",
       "       9.38337396e+01, 4.75568016e+01, 2.25719161e+01, 2.59141882e+00,\n",
       "       1.65114578e+01, 2.39785471e+00, 5.15743540e+01])"
      ]
     },
     "execution_count": 198,
     "metadata": {},
     "output_type": "execute_result"
    }
   ],
   "source": [
    "model_ss.mean_"
   ]
  },
  {
   "cell_type": "code",
   "execution_count": 199,
   "metadata": {},
   "outputs": [
    {
     "data": {
      "text/plain": [
       "array([3.96350264e+02, 7.64356783e-01, 5.00325814e+02, 6.74084500e+03,\n",
       "       3.02036953e+01, 1.74282187e+02, 4.49798310e+02, 6.37619421e-01,\n",
       "       5.19145234e-01, 8.26416785e-01, 6.38360636e-01, 2.15836783e+02,\n",
       "       1.28518074e+02, 6.67309674e+01, 5.98305186e+01, 2.52234636e+01,\n",
       "       5.73602152e+01, 3.77733583e+01, 5.73254184e+02])"
      ]
     },
     "execution_count": 199,
     "metadata": {},
     "output_type": "execute_result"
    }
   ],
   "source": [
    "model_ss.scale_"
   ]
  },
  {
   "cell_type": "code",
   "execution_count": 200,
   "metadata": {},
   "outputs": [
    {
     "data": {
      "text/plain": [
       "array([[-1.10883755,  0.2927864 , -0.04063369, ..., -0.28785558,\n",
       "        -0.06348005, -0.08996769],\n",
       "       [-0.63450962,  0.2927864 ,  1.24452887, ..., -0.28785558,\n",
       "        -0.06348005, -0.08996769],\n",
       "       [-0.27119461, -1.01550316, -0.88408407, ..., -0.28785558,\n",
       "        -0.06348005, -0.08996769],\n",
       "       ...,\n",
       "       [ 0.0189528 ,  0.2927864 ,  0.82680107, ..., -0.28785558,\n",
       "        -0.06348005, -0.08996769],\n",
       "       [ 0.08959738, -1.01550316, -0.59827032, ..., -0.28785558,\n",
       "        -0.06348005, -0.08996769],\n",
       "       [-0.34436221,  0.2927864 ,  0.60894303, ..., -0.28785558,\n",
       "        -0.06348005, -0.08996769]])"
      ]
     },
     "execution_count": 200,
     "metadata": {},
     "output_type": "execute_result"
    }
   ],
   "source": [
    "model_ss.transform(X_train)"
   ]
  },
  {
   "cell_type": "code",
   "execution_count": 201,
   "metadata": {},
   "outputs": [],
   "source": [
    "model_OLS = sm.OLS(y_train, X_train).fit()"
   ]
  },
  {
   "cell_type": "code",
   "execution_count": 206,
   "metadata": {},
   "outputs": [
    {
     "data": {
      "text/plain": [
       "dtype('int64')"
      ]
     },
     "execution_count": 206,
     "metadata": {},
     "output_type": "execute_result"
    }
   ],
   "source": [
    "train['Year Built'].dtypes"
   ]
  },
  {
   "cell_type": "code",
   "execution_count": 202,
   "metadata": {},
   "outputs": [
    {
     "data": {
      "text/html": [
       "<table class=\"simpletable\">\n",
       "<caption>OLS Regression Results</caption>\n",
       "<tr>\n",
       "  <th>Dep. Variable:</th>        <td>SalePrice</td>    <th>  R-squared (uncentered):</th>      <td>   0.963</td> \n",
       "</tr>\n",
       "<tr>\n",
       "  <th>Model:</th>                   <td>OLS</td>       <th>  Adj. R-squared (uncentered):</th> <td>   0.963</td> \n",
       "</tr>\n",
       "<tr>\n",
       "  <th>Method:</th>             <td>Least Squares</td>  <th>  F-statistic:       </th>          <td>   2791.</td> \n",
       "</tr>\n",
       "<tr>\n",
       "  <th>Date:</th>             <td>Thu, 16 Jan 2020</td> <th>  Prob (F-statistic):</th>           <td>  0.00</td>  \n",
       "</tr>\n",
       "<tr>\n",
       "  <th>Time:</th>                 <td>15:44:05</td>     <th>  Log-Likelihood:    </th>          <td> -24541.</td> \n",
       "</tr>\n",
       "<tr>\n",
       "  <th>No. Observations:</th>      <td>  2051</td>      <th>  AIC:               </th>          <td>4.912e+04</td>\n",
       "</tr>\n",
       "<tr>\n",
       "  <th>Df Residuals:</th>          <td>  2032</td>      <th>  BIC:               </th>          <td>4.923e+04</td>\n",
       "</tr>\n",
       "<tr>\n",
       "  <th>Df Model:</th>              <td>    19</td>      <th>                     </th>              <td> </td>    \n",
       "</tr>\n",
       "<tr>\n",
       "  <th>Covariance Type:</th>      <td>nonrobust</td>    <th>                     </th>              <td> </td>    \n",
       "</tr>\n",
       "</table>\n",
       "<table class=\"simpletable\">\n",
       "<tr>\n",
       "         <td></td>           <th>coef</th>     <th>std err</th>      <th>t</th>      <th>P>|t|</th>  <th>[0.025</th>    <th>0.975]</th>  \n",
       "</tr>\n",
       "<tr>\n",
       "  <th>1st Flr SF</th>     <td>    9.2427</td> <td>    3.984</td> <td>    2.320</td> <td> 0.020</td> <td>    1.431</td> <td>   17.055</td>\n",
       "</tr>\n",
       "<tr>\n",
       "  <th>Garage Cars</th>    <td> 1.171e+04</td> <td> 2613.962</td> <td>    4.480</td> <td> 0.000</td> <td> 6585.121</td> <td> 1.68e+04</td>\n",
       "</tr>\n",
       "<tr>\n",
       "  <th>Gr Liv Area</th>    <td>   59.2306</td> <td>    3.496</td> <td>   16.940</td> <td> 0.000</td> <td>   52.374</td> <td>   66.088</td>\n",
       "</tr>\n",
       "<tr>\n",
       "  <th>Lot Area</th>       <td>    0.3291</td> <td>    0.141</td> <td>    2.337</td> <td> 0.020</td> <td>    0.053</td> <td>    0.605</td>\n",
       "</tr>\n",
       "<tr>\n",
       "  <th>Home Age</th>       <td> -387.0226</td> <td>   33.860</td> <td>  -11.430</td> <td> 0.000</td> <td> -453.426</td> <td> -320.619</td>\n",
       "</tr>\n",
       "<tr>\n",
       "  <th>Mas Vnr Area</th>   <td>   42.2232</td> <td>    5.623</td> <td>    7.509</td> <td> 0.000</td> <td>   31.196</td> <td>   53.250</td>\n",
       "</tr>\n",
       "<tr>\n",
       "  <th>Total Bsmt SF</th>  <td>   32.3221</td> <td>    3.397</td> <td>    9.515</td> <td> 0.000</td> <td>   25.660</td> <td>   38.984</td>\n",
       "</tr>\n",
       "<tr>\n",
       "  <th>Bathroom</th>       <td> 1.114e+04</td> <td> 2119.596</td> <td>    5.258</td> <td> 0.000</td> <td> 6987.932</td> <td> 1.53e+04</td>\n",
       "</tr>\n",
       "<tr>\n",
       "  <th>Bsmt Bath</th>      <td> 1.227e+04</td> <td> 1770.498</td> <td>    6.929</td> <td> 0.000</td> <td> 8795.998</td> <td> 1.57e+04</td>\n",
       "</tr>\n",
       "<tr>\n",
       "  <th>Bedroom AbvGr</th>  <td>-6365.4637</td> <td> 1219.504</td> <td>   -5.220</td> <td> 0.000</td> <td>-8757.073</td> <td>-3973.855</td>\n",
       "</tr>\n",
       "<tr>\n",
       "  <th>Fireplaces</th>     <td> 7760.8250</td> <td> 1589.579</td> <td>    4.882</td> <td> 0.000</td> <td> 4643.451</td> <td> 1.09e+04</td>\n",
       "</tr>\n",
       "<tr>\n",
       "  <th>Garage Area</th>    <td>   30.4908</td> <td>    9.299</td> <td>    3.279</td> <td> 0.001</td> <td>   12.254</td> <td>   48.728</td>\n",
       "</tr>\n",
       "<tr>\n",
       "  <th>Wood Deck SF</th>   <td>   36.4869</td> <td>    7.238</td> <td>    5.041</td> <td> 0.000</td> <td>   22.292</td> <td>   50.682</td>\n",
       "</tr>\n",
       "<tr>\n",
       "  <th>Open Porch SF</th>  <td>   39.6036</td> <td>   13.928</td> <td>    2.844</td> <td> 0.005</td> <td>   12.290</td> <td>   66.918</td>\n",
       "</tr>\n",
       "<tr>\n",
       "  <th>Enclosed Porch</th> <td>   21.5504</td> <td>   15.506</td> <td>    1.390</td> <td> 0.165</td> <td>   -8.859</td> <td>   51.960</td>\n",
       "</tr>\n",
       "<tr>\n",
       "  <th>3Ssn Porch</th>     <td>   33.5141</td> <td>   33.680</td> <td>    0.995</td> <td> 0.320</td> <td>  -32.537</td> <td>   99.566</td>\n",
       "</tr>\n",
       "<tr>\n",
       "  <th>Screen Porch</th>   <td>   79.0622</td> <td>   15.276</td> <td>    5.176</td> <td> 0.000</td> <td>   49.104</td> <td>  109.021</td>\n",
       "</tr>\n",
       "<tr>\n",
       "  <th>Pool Area</th>      <td> -141.7131</td> <td>   22.934</td> <td>   -6.179</td> <td> 0.000</td> <td> -186.691</td> <td>  -96.736</td>\n",
       "</tr>\n",
       "<tr>\n",
       "  <th>Misc Val</th>       <td>  -14.2319</td> <td>    1.508</td> <td>   -9.436</td> <td> 0.000</td> <td>  -17.190</td> <td>  -11.274</td>\n",
       "</tr>\n",
       "</table>\n",
       "<table class=\"simpletable\">\n",
       "<tr>\n",
       "  <th>Omnibus:</th>       <td>838.960</td> <th>  Durbin-Watson:     </th> <td>   2.046</td> \n",
       "</tr>\n",
       "<tr>\n",
       "  <th>Prob(Omnibus):</th> <td> 0.000</td>  <th>  Jarque-Bera (JB):  </th> <td>57586.344</td>\n",
       "</tr>\n",
       "<tr>\n",
       "  <th>Skew:</th>          <td>-1.065</td>  <th>  Prob(JB):          </th> <td>    0.00</td> \n",
       "</tr>\n",
       "<tr>\n",
       "  <th>Kurtosis:</th>      <td>28.871</td>  <th>  Cond. No.          </th> <td>4.02e+04</td> \n",
       "</tr>\n",
       "</table><br/><br/>Warnings:<br/>[1] Standard Errors assume that the covariance matrix of the errors is correctly specified.<br/>[2] The condition number is large, 4.02e+04. This might indicate that there are<br/>strong multicollinearity or other numerical problems."
      ],
      "text/plain": [
       "<class 'statsmodels.iolib.summary.Summary'>\n",
       "\"\"\"\n",
       "                                 OLS Regression Results                                \n",
       "=======================================================================================\n",
       "Dep. Variable:              SalePrice   R-squared (uncentered):                   0.963\n",
       "Model:                            OLS   Adj. R-squared (uncentered):              0.963\n",
       "Method:                 Least Squares   F-statistic:                              2791.\n",
       "Date:                Thu, 16 Jan 2020   Prob (F-statistic):                        0.00\n",
       "Time:                        15:44:05   Log-Likelihood:                         -24541.\n",
       "No. Observations:                2051   AIC:                                  4.912e+04\n",
       "Df Residuals:                    2032   BIC:                                  4.923e+04\n",
       "Df Model:                          19                                                  \n",
       "Covariance Type:            nonrobust                                                  \n",
       "==================================================================================\n",
       "                     coef    std err          t      P>|t|      [0.025      0.975]\n",
       "----------------------------------------------------------------------------------\n",
       "1st Flr SF         9.2427      3.984      2.320      0.020       1.431      17.055\n",
       "Garage Cars     1.171e+04   2613.962      4.480      0.000    6585.121    1.68e+04\n",
       "Gr Liv Area       59.2306      3.496     16.940      0.000      52.374      66.088\n",
       "Lot Area           0.3291      0.141      2.337      0.020       0.053       0.605\n",
       "Home Age        -387.0226     33.860    -11.430      0.000    -453.426    -320.619\n",
       "Mas Vnr Area      42.2232      5.623      7.509      0.000      31.196      53.250\n",
       "Total Bsmt SF     32.3221      3.397      9.515      0.000      25.660      38.984\n",
       "Bathroom        1.114e+04   2119.596      5.258      0.000    6987.932    1.53e+04\n",
       "Bsmt Bath       1.227e+04   1770.498      6.929      0.000    8795.998    1.57e+04\n",
       "Bedroom AbvGr  -6365.4637   1219.504     -5.220      0.000   -8757.073   -3973.855\n",
       "Fireplaces      7760.8250   1589.579      4.882      0.000    4643.451    1.09e+04\n",
       "Garage Area       30.4908      9.299      3.279      0.001      12.254      48.728\n",
       "Wood Deck SF      36.4869      7.238      5.041      0.000      22.292      50.682\n",
       "Open Porch SF     39.6036     13.928      2.844      0.005      12.290      66.918\n",
       "Enclosed Porch    21.5504     15.506      1.390      0.165      -8.859      51.960\n",
       "3Ssn Porch        33.5141     33.680      0.995      0.320     -32.537      99.566\n",
       "Screen Porch      79.0622     15.276      5.176      0.000      49.104     109.021\n",
       "Pool Area       -141.7131     22.934     -6.179      0.000    -186.691     -96.736\n",
       "Misc Val         -14.2319      1.508     -9.436      0.000     -17.190     -11.274\n",
       "==============================================================================\n",
       "Omnibus:                      838.960   Durbin-Watson:                   2.046\n",
       "Prob(Omnibus):                  0.000   Jarque-Bera (JB):            57586.344\n",
       "Skew:                          -1.065   Prob(JB):                         0.00\n",
       "Kurtosis:                      28.871   Cond. No.                     4.02e+04\n",
       "==============================================================================\n",
       "\n",
       "Warnings:\n",
       "[1] Standard Errors assume that the covariance matrix of the errors is correctly specified.\n",
       "[2] The condition number is large, 4.02e+04. This might indicate that there are\n",
       "strong multicollinearity or other numerical problems.\n",
       "\"\"\""
      ]
     },
     "execution_count": 202,
     "metadata": {},
     "output_type": "execute_result"
    }
   ],
   "source": [
    "model_OLS.summary()"
   ]
  },
  {
   "cell_type": "code",
   "execution_count": 203,
   "metadata": {},
   "outputs": [
    {
     "data": {
      "image/png": "[encoded data removed]",
      "text/plain": [
       "<Figure size 576x576 with 2 Axes>"
      ]
     },
     "metadata": {
      "needs_background": "light"
     },
     "output_type": "display_data"
    }
   ],
   "source": [
    "price_corr = train.corr()[['SalePrice']].sort_values('SalePrice', ascending = False)\n",
    "plt.figure(figsize = (8, 8))\n",
    "sns.heatmap(price_corr, vmin = -1, vmax = 1, annot = True, cmap = 'BrBG_r');"
   ]
  },
  {
   "cell_type": "code",
   "execution_count": 225,
   "metadata": {},
   "outputs": [
    {
     "data": {
      "text/plain": [
       "<seaborn.axisgrid.PairGrid at 0x1c3355ad30>"
      ]
     },
     "execution_count": 225,
     "metadata": {},
     "output_type": "execute_result"
    },
    {
     "data": {
      "image/png": "[encoded data removed]",
      "text/plain": [
       "<Figure size 1080x180 with 6 Axes>"
      ]
     },
     "metadata": {
      "needs_background": "light"
     },
     "output_type": "display_data"
    }
   ],
   "source": [
    "sns.pairplot(train, y_vars = ['SalePrice'], x_vars = ['Gr Liv Area', 'Bathroom', 'Fireplaces', 'Lot Frontage', 'Yr Sold', 'Home Age'])"
   ]
  },
  {
   "cell_type": "code",
   "execution_count": 235,
   "metadata": {},
   "outputs": [
    {
     "data": {
      "image/png": "[encoded data removed]",
      "text/plain": [
       "<Figure size 864x936 with 42 Axes>"
      ]
     },
     "metadata": {
      "needs_background": "light"
     },
     "output_type": "display_data"
    }
   ],
   "source": [
    "train.hist(ylabelsize = 6, xlabelsize = 4, figsize = (12, 13));"
   ]
  },
  {
   "cell_type": "code",
   "execution_count": 236,
   "metadata": {},
   "outputs": [
    {
     "data": {
      "image/png": "[encoded data removed]",
      "text/plain": [
       "<Figure size 432x288 with 1 Axes>"
      ]
     },
     "metadata": {
      "needs_background": "light"
     },
     "output_type": "display_data"
    }
   ],
   "source": [
    "sns.boxplot(train['SalePrice'], color = 'cyan');"
   ]
  },
  {
   "cell_type": "code",
   "execution_count": 238,
   "metadata": {},
   "outputs": [
    {
     "data": {
      "image/png": "[encoded data removed]",
      "text/plain": [
       "<Figure size 432x288 with 1 Axes>"
      ]
     },
     "metadata": {
      "needs_background": "light"
     },
     "output_type": "display_data"
    }
   ],
   "source": [
    "sns.boxplot(train['Home Age'], color = 'violet');"
   ]
  },
  {
   "cell_type": "code",
   "execution_count": 244,
   "metadata": {},
   "outputs": [],
   "source": [
    "X_train_tts, X_test_tts, y_train_tts, y_test_tts = train_test_split(X_train, y_train, random_state = 42)"
   ]
  },
  {
   "cell_type": "code",
   "execution_count": 241,
   "metadata": {},
   "outputs": [],
   "source": [
    "model_pipe = Pipeline([('model_ss', StandardScaler()), ('model_knn', KNeighborsClassifier())])"
   ]
  },
  {
   "cell_type": "code",
   "execution_count": 245,
   "metadata": {},
   "outputs": [
    {
     "data": {
      "text/plain": [
       "Pipeline(memory=None,\n",
       "         steps=[('model_ss',\n",
       "                 StandardScaler(copy=True, with_mean=True, with_std=True)),\n",
       "                ('model_knn',\n",
       "                 KNeighborsClassifier(algorithm='auto', leaf_size=30,\n",
       "                                      metric='minkowski', metric_params=None,\n",
       "                                      n_jobs=None, n_neighbors=5, p=2,\n",
       "                                      weights='uniform'))],\n",
       "         verbose=False)"
      ]
     },
     "execution_count": 245,
     "metadata": {},
     "output_type": "execute_result"
    }
   ],
   "source": [
    "model_pipe.fit(X_train_tts, y_train_tts)"
   ]
  },
  {
   "cell_type": "code",
   "execution_count": 246,
   "metadata": {},
   "outputs": [
    {
     "data": {
      "text/plain": [
       "0.007797270955165692"
      ]
     },
     "execution_count": 246,
     "metadata": {},
     "output_type": "execute_result"
    }
   ],
   "source": [
    "model_pipe.score(X_test_tts, y_test_tts)"
   ]
  },
  {
   "cell_type": "code",
   "execution_count": 248,
   "metadata": {},
   "outputs": [
    {
     "data": {
      "text/plain": [
       "{'memory': None,\n",
       " 'steps': [('model_ss',\n",
       "   StandardScaler(copy=True, with_mean=True, with_std=True)),\n",
       "  ('model_knn',\n",
       "   KNeighborsClassifier(algorithm='auto', leaf_size=30, metric='minkowski',\n",
       "                        metric_params=None, n_jobs=None, n_neighbors=5, p=2,\n",
       "                        weights='uniform'))],\n",
       " 'verbose': False,\n",
       " 'model_ss': StandardScaler(copy=True, with_mean=True, with_std=True),\n",
       " 'model_knn': KNeighborsClassifier(algorithm='auto', leaf_size=30, metric='minkowski',\n",
       "                      metric_params=None, n_jobs=None, n_neighbors=5, p=2,\n",
       "                      weights='uniform'),\n",
       " 'model_ss__copy': True,\n",
       " 'model_ss__with_mean': True,\n",
       " 'model_ss__with_std': True,\n",
       " 'model_knn__algorithm': 'auto',\n",
       " 'model_knn__leaf_size': 30,\n",
       " 'model_knn__metric': 'minkowski',\n",
       " 'model_knn__metric_params': None,\n",
       " 'model_knn__n_jobs': None,\n",
       " 'model_knn__n_neighbors': 5,\n",
       " 'model_knn__p': 2,\n",
       " 'model_knn__weights': 'uniform'}"
      ]
     },
     "execution_count": 248,
     "metadata": {},
     "output_type": "execute_result"
    }
   ],
   "source": [
    "model_pipe.get_params()"
   ]
  },
  {
   "cell_type": "code",
   "execution_count": 271,
   "metadata": {},
   "outputs": [],
   "source": [
    "train_neighborhood = train[['Neighborhood','SalePrice', 'Lot Area', 'Gr Liv Area']]\n",
    "    "
   ]
  },
  {
   "cell_type": "code",
   "execution_count": 272,
   "metadata": {},
   "outputs": [
    {
     "data": {
      "text/plain": [
       "SalePrice      189041.666667\n",
       "Lot Area        21667.166667\n",
       "Gr Liv Area      1707.416667\n",
       "dtype: float64"
      ]
     },
     "execution_count": 272,
     "metadata": {},
     "output_type": "execute_result"
    }
   ],
   "source": [
    "train_neighborhood[(train_neighborhood['Neighborhood'] == 'NAmes')&\n",
    "                   (train_neighborhood['Lot Area'] >= 16_000)].mean()"
   ]
  },
  {
   "cell_type": "code",
   "execution_count": 333,
   "metadata": {},
   "outputs": [
    {
     "data": {
      "text/html": [
       "<div>\n",
       "<style scoped>\n",
       "    .dataframe tbody tr th:only-of-type {\n",
       "        vertical-align: middle;\n",
       "    }\n",
       "\n",
       "    .dataframe tbody tr th {\n",
       "        vertical-align: top;\n",
       "    }\n",
       "\n",
       "    .dataframe thead th {\n",
       "        text-align: right;\n",
       "    }\n",
       "</style>\n",
       "<table border=\"1\" class=\"dataframe\">\n",
       "  <thead>\n",
       "    <tr style=\"text-align: right;\">\n",
       "      <th></th>\n",
       "      <th>Neighborhood</th>\n",
       "      <th>SalePrice</th>\n",
       "      <th>Lot Area</th>\n",
       "      <th>Gr Liv Area</th>\n",
       "    </tr>\n",
       "  </thead>\n",
       "  <tbody>\n",
       "    <tr>\n",
       "      <th>5</th>\n",
       "      <td>NAmes</td>\n",
       "      <td>190000</td>\n",
       "      <td>16492</td>\n",
       "      <td>1888</td>\n",
       "    </tr>\n",
       "    <tr>\n",
       "      <th>108</th>\n",
       "      <td>NAmes</td>\n",
       "      <td>252000</td>\n",
       "      <td>39384</td>\n",
       "      <td>1390</td>\n",
       "    </tr>\n",
       "    <tr>\n",
       "      <th>236</th>\n",
       "      <td>NAmes</td>\n",
       "      <td>200000</td>\n",
       "      <td>22002</td>\n",
       "      <td>1652</td>\n",
       "    </tr>\n",
       "    <tr>\n",
       "      <th>353</th>\n",
       "      <td>NAmes</td>\n",
       "      <td>97500</td>\n",
       "      <td>17503</td>\n",
       "      <td>1458</td>\n",
       "    </tr>\n",
       "    <tr>\n",
       "      <th>675</th>\n",
       "      <td>NAmes</td>\n",
       "      <td>207500</td>\n",
       "      <td>16321</td>\n",
       "      <td>1600</td>\n",
       "    </tr>\n",
       "    <tr>\n",
       "      <th>781</th>\n",
       "      <td>NAmes</td>\n",
       "      <td>128000</td>\n",
       "      <td>17199</td>\n",
       "      <td>914</td>\n",
       "    </tr>\n",
       "    <tr>\n",
       "      <th>965</th>\n",
       "      <td>NAmes</td>\n",
       "      <td>172500</td>\n",
       "      <td>17360</td>\n",
       "      <td>1556</td>\n",
       "    </tr>\n",
       "    <tr>\n",
       "      <th>1080</th>\n",
       "      <td>NAmes</td>\n",
       "      <td>215000</td>\n",
       "      <td>31770</td>\n",
       "      <td>1656</td>\n",
       "    </tr>\n",
       "    <tr>\n",
       "      <th>1335</th>\n",
       "      <td>NAmes</td>\n",
       "      <td>242000</td>\n",
       "      <td>27650</td>\n",
       "      <td>2069</td>\n",
       "    </tr>\n",
       "    <tr>\n",
       "      <th>1336</th>\n",
       "      <td>NAmes</td>\n",
       "      <td>157500</td>\n",
       "      <td>17600</td>\n",
       "      <td>1478</td>\n",
       "    </tr>\n",
       "    <tr>\n",
       "      <th>1625</th>\n",
       "      <td>NAmes</td>\n",
       "      <td>277500</td>\n",
       "      <td>18275</td>\n",
       "      <td>2448</td>\n",
       "    </tr>\n",
       "    <tr>\n",
       "      <th>1695</th>\n",
       "      <td>NAmes</td>\n",
       "      <td>129000</td>\n",
       "      <td>18450</td>\n",
       "      <td>2380</td>\n",
       "    </tr>\n",
       "  </tbody>\n",
       "</table>\n",
       "</div>"
      ],
      "text/plain": [
       "     Neighborhood  SalePrice  Lot Area  Gr Liv Area\n",
       "5           NAmes     190000     16492         1888\n",
       "108         NAmes     252000     39384         1390\n",
       "236         NAmes     200000     22002         1652\n",
       "353         NAmes      97500     17503         1458\n",
       "675         NAmes     207500     16321         1600\n",
       "781         NAmes     128000     17199          914\n",
       "965         NAmes     172500     17360         1556\n",
       "1080        NAmes     215000     31770         1656\n",
       "1335        NAmes     242000     27650         2069\n",
       "1336        NAmes     157500     17600         1478\n",
       "1625        NAmes     277500     18275         2448\n",
       "1695        NAmes     129000     18450         2380"
      ]
     },
     "execution_count": 333,
     "metadata": {},
     "output_type": "execute_result"
    }
   ],
   "source": [
    "train_neighborhood[(train_neighborhood['Neighborhood'] == 'NAmes')&\n",
    "                   (train_neighborhood['Lot Area'] >= 16_000)]"
   ]
  },
  {
   "cell_type": "code",
   "execution_count": 273,
   "metadata": {},
   "outputs": [
    {
     "data": {
      "text/plain": [
       "SalePrice      127573.220339\n",
       "Lot Area         7299.932203\n",
       "Gr Liv Area      1079.593220\n",
       "dtype: float64"
      ]
     },
     "execution_count": 273,
     "metadata": {},
     "output_type": "execute_result"
    }
   ],
   "source": [
    "train_neighborhood[(train_neighborhood['Neighborhood'] == 'NAmes')&\n",
    "                   (train_neighborhood['Lot Area'] < 8_000)].mean()"
   ]
  },
  {
   "cell_type": "code",
   "execution_count": 335,
   "metadata": {},
   "outputs": [
    {
     "data": {
      "text/html": [
       "<div>\n",
       "<style scoped>\n",
       "    .dataframe tbody tr th:only-of-type {\n",
       "        vertical-align: middle;\n",
       "    }\n",
       "\n",
       "    .dataframe tbody tr th {\n",
       "        vertical-align: top;\n",
       "    }\n",
       "\n",
       "    .dataframe thead th {\n",
       "        text-align: right;\n",
       "    }\n",
       "</style>\n",
       "<table border=\"1\" class=\"dataframe\">\n",
       "  <thead>\n",
       "    <tr style=\"text-align: right;\">\n",
       "      <th></th>\n",
       "      <th>Neighborhood</th>\n",
       "      <th>SalePrice</th>\n",
       "      <th>Lot Area</th>\n",
       "      <th>Gr Liv Area</th>\n",
       "    </tr>\n",
       "  </thead>\n",
       "  <tbody>\n",
       "    <tr>\n",
       "      <th>2</th>\n",
       "      <td>NAmes</td>\n",
       "      <td>109000</td>\n",
       "      <td>7922</td>\n",
       "      <td>1057</td>\n",
       "    </tr>\n",
       "    <tr>\n",
       "      <th>58</th>\n",
       "      <td>NAmes</td>\n",
       "      <td>136000</td>\n",
       "      <td>7942</td>\n",
       "      <td>1040</td>\n",
       "    </tr>\n",
       "    <tr>\n",
       "      <th>97</th>\n",
       "      <td>NAmes</td>\n",
       "      <td>124000</td>\n",
       "      <td>7450</td>\n",
       "      <td>1074</td>\n",
       "    </tr>\n",
       "    <tr>\n",
       "      <th>154</th>\n",
       "      <td>NAmes</td>\n",
       "      <td>120000</td>\n",
       "      <td>7535</td>\n",
       "      <td>912</td>\n",
       "    </tr>\n",
       "    <tr>\n",
       "      <th>164</th>\n",
       "      <td>NAmes</td>\n",
       "      <td>129900</td>\n",
       "      <td>7100</td>\n",
       "      <td>816</td>\n",
       "    </tr>\n",
       "  </tbody>\n",
       "</table>\n",
       "</div>"
      ],
      "text/plain": [
       "    Neighborhood  SalePrice  Lot Area  Gr Liv Area\n",
       "2          NAmes     109000      7922         1057\n",
       "58         NAmes     136000      7942         1040\n",
       "97         NAmes     124000      7450         1074\n",
       "154        NAmes     120000      7535          912\n",
       "164        NAmes     129900      7100          816"
      ]
     },
     "execution_count": 335,
     "metadata": {},
     "output_type": "execute_result"
    }
   ],
   "source": [
    "train_neighborhood[(train_neighborhood['Neighborhood'] == 'NAmes')&\n",
    "                   (train_neighborhood['Lot Area'] < 8_000)].head()"
   ]
  },
  {
   "cell_type": "code",
   "execution_count": 285,
   "metadata": {},
   "outputs": [
    {
     "data": {
      "text/plain": [
       "SalePrice      200417.681818\n",
       "Lot Area         3396.818182\n",
       "Gr Liv Area      1433.454545\n",
       "dtype: float64"
      ]
     },
     "execution_count": 285,
     "metadata": {},
     "output_type": "execute_result"
    }
   ],
   "source": [
    "train_neighborhood[(train_neighborhood['Neighborhood'] == 'Blmngtn')&\n",
    "                   (train_neighborhood['Lot Area'] <8_000)].mean()"
   ]
  },
  {
   "cell_type": "code",
   "execution_count": 336,
   "metadata": {},
   "outputs": [
    {
     "data": {
      "text/html": [
       "<div>\n",
       "<style scoped>\n",
       "    .dataframe tbody tr th:only-of-type {\n",
       "        vertical-align: middle;\n",
       "    }\n",
       "\n",
       "    .dataframe tbody tr th {\n",
       "        vertical-align: top;\n",
       "    }\n",
       "\n",
       "    .dataframe thead th {\n",
       "        text-align: right;\n",
       "    }\n",
       "</style>\n",
       "<table border=\"1\" class=\"dataframe\">\n",
       "  <thead>\n",
       "    <tr style=\"text-align: right;\">\n",
       "      <th></th>\n",
       "      <th>Neighborhood</th>\n",
       "      <th>SalePrice</th>\n",
       "      <th>Lot Area</th>\n",
       "      <th>Gr Liv Area</th>\n",
       "    </tr>\n",
       "  </thead>\n",
       "  <tbody>\n",
       "    <tr>\n",
       "      <th>69</th>\n",
       "      <td>Blmngtn</td>\n",
       "      <td>213490</td>\n",
       "      <td>3013</td>\n",
       "      <td>1506</td>\n",
       "    </tr>\n",
       "    <tr>\n",
       "      <th>208</th>\n",
       "      <td>Blmngtn</td>\n",
       "      <td>234000</td>\n",
       "      <td>3196</td>\n",
       "      <td>1557</td>\n",
       "    </tr>\n",
       "    <tr>\n",
       "      <th>215</th>\n",
       "      <td>Blmngtn</td>\n",
       "      <td>192000</td>\n",
       "      <td>3182</td>\n",
       "      <td>1269</td>\n",
       "    </tr>\n",
       "    <tr>\n",
       "      <th>277</th>\n",
       "      <td>Blmngtn</td>\n",
       "      <td>192500</td>\n",
       "      <td>3182</td>\n",
       "      <td>1555</td>\n",
       "    </tr>\n",
       "    <tr>\n",
       "      <th>504</th>\n",
       "      <td>Blmngtn</td>\n",
       "      <td>226500</td>\n",
       "      <td>3621</td>\n",
       "      <td>1589</td>\n",
       "    </tr>\n",
       "  </tbody>\n",
       "</table>\n",
       "</div>"
      ],
      "text/plain": [
       "    Neighborhood  SalePrice  Lot Area  Gr Liv Area\n",
       "69       Blmngtn     213490      3013         1506\n",
       "208      Blmngtn     234000      3196         1557\n",
       "215      Blmngtn     192000      3182         1269\n",
       "277      Blmngtn     192500      3182         1555\n",
       "504      Blmngtn     226500      3621         1589"
      ]
     },
     "execution_count": 336,
     "metadata": {},
     "output_type": "execute_result"
    }
   ],
   "source": [
    "train_neighborhood[(train_neighborhood['Neighborhood'] == 'Blmngtn')&\n",
    "                   (train_neighborhood['Lot Area'] <8_000)].head()"
   ]
  },
  {
   "cell_type": "code",
   "execution_count": 299,
   "metadata": {},
   "outputs": [
    {
     "data": {
      "text/plain": [
       "SalePrice      144566.666667\n",
       "Lot Area         2409.666667\n",
       "Gr Liv Area      1214.000000\n",
       "dtype: float64"
      ]
     },
     "execution_count": 299,
     "metadata": {},
     "output_type": "execute_result"
    }
   ],
   "source": [
    "train_neighborhood[(train_neighborhood['Neighborhood'] == 'Blueste')&\n",
    "                   (train_neighborhood['Lot Area'] < 8_000)].mean()"
   ]
  },
  {
   "cell_type": "code",
   "execution_count": 329,
   "metadata": {},
   "outputs": [
    {
     "data": {
      "text/html": [
       "<div>\n",
       "<style scoped>\n",
       "    .dataframe tbody tr th:only-of-type {\n",
       "        vertical-align: middle;\n",
       "    }\n",
       "\n",
       "    .dataframe tbody tr th {\n",
       "        vertical-align: top;\n",
       "    }\n",
       "\n",
       "    .dataframe thead th {\n",
       "        text-align: right;\n",
       "    }\n",
       "</style>\n",
       "<table border=\"1\" class=\"dataframe\">\n",
       "  <thead>\n",
       "    <tr style=\"text-align: right;\">\n",
       "      <th></th>\n",
       "      <th>Neighborhood</th>\n",
       "      <th>SalePrice</th>\n",
       "      <th>Lot Area</th>\n",
       "      <th>Gr Liv Area</th>\n",
       "    </tr>\n",
       "  </thead>\n",
       "  <tbody>\n",
       "    <tr>\n",
       "      <th>278</th>\n",
       "      <td>Blueste</td>\n",
       "      <td>151000</td>\n",
       "      <td>1950</td>\n",
       "      <td>1556</td>\n",
       "    </tr>\n",
       "    <tr>\n",
       "      <th>1463</th>\n",
       "      <td>Blueste</td>\n",
       "      <td>123900</td>\n",
       "      <td>1782</td>\n",
       "      <td>1045</td>\n",
       "    </tr>\n",
       "    <tr>\n",
       "      <th>1510</th>\n",
       "      <td>Blueste</td>\n",
       "      <td>124000</td>\n",
       "      <td>1300</td>\n",
       "      <td>1229</td>\n",
       "    </tr>\n",
       "    <tr>\n",
       "      <th>1838</th>\n",
       "      <td>Blueste</td>\n",
       "      <td>121000</td>\n",
       "      <td>1612</td>\n",
       "      <td>1229</td>\n",
       "    </tr>\n",
       "    <tr>\n",
       "      <th>1953</th>\n",
       "      <td>Blueste</td>\n",
       "      <td>185000</td>\n",
       "      <td>3907</td>\n",
       "      <td>1034</td>\n",
       "    </tr>\n",
       "    <tr>\n",
       "      <th>2033</th>\n",
       "      <td>Blueste</td>\n",
       "      <td>162500</td>\n",
       "      <td>3907</td>\n",
       "      <td>1191</td>\n",
       "    </tr>\n",
       "  </tbody>\n",
       "</table>\n",
       "</div>"
      ],
      "text/plain": [
       "     Neighborhood  SalePrice  Lot Area  Gr Liv Area\n",
       "278       Blueste     151000      1950         1556\n",
       "1463      Blueste     123900      1782         1045\n",
       "1510      Blueste     124000      1300         1229\n",
       "1838      Blueste     121000      1612         1229\n",
       "1953      Blueste     185000      3907         1034\n",
       "2033      Blueste     162500      3907         1191"
      ]
     },
     "execution_count": 329,
     "metadata": {},
     "output_type": "execute_result"
    }
   ],
   "source": [
    "train_neighborhood[(train_neighborhood['Neighborhood'] == 'Blueste')&\n",
    "                   (train_neighborhood['Lot Area'] < 8_000)]"
   ]
  },
  {
   "cell_type": "code",
   "execution_count": 300,
   "metadata": {},
   "outputs": [
    {
     "data": {
      "text/plain": [
       "SalePrice      189971.428571\n",
       "Lot Area        17200.142857\n",
       "Gr Liv Area      1454.714286\n",
       "dtype: float64"
      ]
     },
     "execution_count": 300,
     "metadata": {},
     "output_type": "execute_result"
    }
   ],
   "source": [
    "train_neighborhood[(train_neighborhood['Neighborhood'] == 'CollgCr')&\n",
    "                   (train_neighborhood['Lot Area'] >= 16_000)].mean()"
   ]
  },
  {
   "cell_type": "code",
   "execution_count": 328,
   "metadata": {},
   "outputs": [
    {
     "data": {
      "text/html": [
       "<div>\n",
       "<style scoped>\n",
       "    .dataframe tbody tr th:only-of-type {\n",
       "        vertical-align: middle;\n",
       "    }\n",
       "\n",
       "    .dataframe tbody tr th {\n",
       "        vertical-align: top;\n",
       "    }\n",
       "\n",
       "    .dataframe thead th {\n",
       "        text-align: right;\n",
       "    }\n",
       "</style>\n",
       "<table border=\"1\" class=\"dataframe\">\n",
       "  <thead>\n",
       "    <tr style=\"text-align: right;\">\n",
       "      <th></th>\n",
       "      <th>Neighborhood</th>\n",
       "      <th>SalePrice</th>\n",
       "      <th>Lot Area</th>\n",
       "      <th>Gr Liv Area</th>\n",
       "    </tr>\n",
       "  </thead>\n",
       "  <tbody>\n",
       "    <tr>\n",
       "      <th>749</th>\n",
       "      <td>CollgCr</td>\n",
       "      <td>130000</td>\n",
       "      <td>16300</td>\n",
       "      <td>907</td>\n",
       "    </tr>\n",
       "    <tr>\n",
       "      <th>1006</th>\n",
       "      <td>CollgCr</td>\n",
       "      <td>267000</td>\n",
       "      <td>16226</td>\n",
       "      <td>2452</td>\n",
       "    </tr>\n",
       "    <tr>\n",
       "      <th>1150</th>\n",
       "      <td>CollgCr</td>\n",
       "      <td>187100</td>\n",
       "      <td>16285</td>\n",
       "      <td>1430</td>\n",
       "    </tr>\n",
       "    <tr>\n",
       "      <th>1616</th>\n",
       "      <td>CollgCr</td>\n",
       "      <td>140000</td>\n",
       "      <td>16269</td>\n",
       "      <td>907</td>\n",
       "    </tr>\n",
       "    <tr>\n",
       "      <th>1753</th>\n",
       "      <td>CollgCr</td>\n",
       "      <td>147900</td>\n",
       "      <td>16561</td>\n",
       "      <td>1097</td>\n",
       "    </tr>\n",
       "    <tr>\n",
       "      <th>1792</th>\n",
       "      <td>CollgCr</td>\n",
       "      <td>246900</td>\n",
       "      <td>17227</td>\n",
       "      <td>1341</td>\n",
       "    </tr>\n",
       "    <tr>\n",
       "      <th>1960</th>\n",
       "      <td>CollgCr</td>\n",
       "      <td>210900</td>\n",
       "      <td>21533</td>\n",
       "      <td>2049</td>\n",
       "    </tr>\n",
       "  </tbody>\n",
       "</table>\n",
       "</div>"
      ],
      "text/plain": [
       "     Neighborhood  SalePrice  Lot Area  Gr Liv Area\n",
       "749       CollgCr     130000     16300          907\n",
       "1006      CollgCr     267000     16226         2452\n",
       "1150      CollgCr     187100     16285         1430\n",
       "1616      CollgCr     140000     16269          907\n",
       "1753      CollgCr     147900     16561         1097\n",
       "1792      CollgCr     246900     17227         1341\n",
       "1960      CollgCr     210900     21533         2049"
      ]
     },
     "execution_count": 328,
     "metadata": {},
     "output_type": "execute_result"
    }
   ],
   "source": [
    "train_neighborhood[(train_neighborhood['Neighborhood'] == 'CollgCr')&\n",
    "                   (train_neighborhood['Lot Area'] >= 16_000)]"
   ]
  },
  {
   "cell_type": "code",
   "execution_count": 302,
   "metadata": {},
   "outputs": [
    {
     "data": {
      "text/plain": [
       "SalePrice      292500.00\n",
       "Lot Area        24148.00\n",
       "Gr Liv Area      3056.75\n",
       "dtype: float64"
      ]
     },
     "execution_count": 302,
     "metadata": {},
     "output_type": "execute_result"
    }
   ],
   "source": [
    "train_neighborhood[(train_neighborhood['Neighborhood'] == 'OldTown')&\n",
    "                   (train_neighborhood['Lot Area'] >= 16_000)].mean()"
   ]
  },
  {
   "cell_type": "code",
   "execution_count": 327,
   "metadata": {},
   "outputs": [
    {
     "data": {
      "text/html": [
       "<div>\n",
       "<style scoped>\n",
       "    .dataframe tbody tr th:only-of-type {\n",
       "        vertical-align: middle;\n",
       "    }\n",
       "\n",
       "    .dataframe tbody tr th {\n",
       "        vertical-align: top;\n",
       "    }\n",
       "\n",
       "    .dataframe thead th {\n",
       "        text-align: right;\n",
       "    }\n",
       "</style>\n",
       "<table border=\"1\" class=\"dataframe\">\n",
       "  <thead>\n",
       "    <tr style=\"text-align: right;\">\n",
       "      <th></th>\n",
       "      <th>Neighborhood</th>\n",
       "      <th>SalePrice</th>\n",
       "      <th>Lot Area</th>\n",
       "      <th>Gr Liv Area</th>\n",
       "    </tr>\n",
       "  </thead>\n",
       "  <tbody>\n",
       "    <tr>\n",
       "      <th>1035</th>\n",
       "      <td>OldTown</td>\n",
       "      <td>475000</td>\n",
       "      <td>22950</td>\n",
       "      <td>3608</td>\n",
       "    </tr>\n",
       "    <tr>\n",
       "      <th>1701</th>\n",
       "      <td>OldTown</td>\n",
       "      <td>220000</td>\n",
       "      <td>33120</td>\n",
       "      <td>2486</td>\n",
       "    </tr>\n",
       "    <tr>\n",
       "      <th>1939</th>\n",
       "      <td>OldTown</td>\n",
       "      <td>295000</td>\n",
       "      <td>18386</td>\n",
       "      <td>3493</td>\n",
       "    </tr>\n",
       "    <tr>\n",
       "      <th>1965</th>\n",
       "      <td>OldTown</td>\n",
       "      <td>180000</td>\n",
       "      <td>22136</td>\n",
       "      <td>2640</td>\n",
       "    </tr>\n",
       "  </tbody>\n",
       "</table>\n",
       "</div>"
      ],
      "text/plain": [
       "     Neighborhood  SalePrice  Lot Area  Gr Liv Area\n",
       "1035      OldTown     475000     22950         3608\n",
       "1701      OldTown     220000     33120         2486\n",
       "1939      OldTown     295000     18386         3493\n",
       "1965      OldTown     180000     22136         2640"
      ]
     },
     "execution_count": 327,
     "metadata": {},
     "output_type": "execute_result"
    }
   ],
   "source": [
    "train_neighborhood[(train_neighborhood['Neighborhood'] == 'OldTown')&\n",
    "                   (train_neighborhood['Lot Area'] >= 16_000)]"
   ]
  },
  {
   "cell_type": "code",
   "execution_count": 303,
   "metadata": {},
   "outputs": [
    {
     "data": {
      "text/plain": [
       "SalePrice      109320.6000\n",
       "Lot Area         5789.8375\n",
       "Gr Liv Area      1214.5375\n",
       "dtype: float64"
      ]
     },
     "execution_count": 303,
     "metadata": {},
     "output_type": "execute_result"
    }
   ],
   "source": [
    "train_neighborhood[(train_neighborhood['Neighborhood'] == 'OldTown')&\n",
    "                   (train_neighborhood['Lot Area'] < 8_000)].mean()"
   ]
  },
  {
   "cell_type": "code",
   "execution_count": 334,
   "metadata": {},
   "outputs": [
    {
     "data": {
      "text/html": [
       "<div>\n",
       "<style scoped>\n",
       "    .dataframe tbody tr th:only-of-type {\n",
       "        vertical-align: middle;\n",
       "    }\n",
       "\n",
       "    .dataframe tbody tr th {\n",
       "        vertical-align: top;\n",
       "    }\n",
       "\n",
       "    .dataframe thead th {\n",
       "        text-align: right;\n",
       "    }\n",
       "</style>\n",
       "<table border=\"1\" class=\"dataframe\">\n",
       "  <thead>\n",
       "    <tr style=\"text-align: right;\">\n",
       "      <th></th>\n",
       "      <th>Neighborhood</th>\n",
       "      <th>SalePrice</th>\n",
       "      <th>Lot Area</th>\n",
       "      <th>Gr Liv Area</th>\n",
       "    </tr>\n",
       "  </thead>\n",
       "  <tbody>\n",
       "    <tr>\n",
       "      <th>16</th>\n",
       "      <td>OldTown</td>\n",
       "      <td>98000</td>\n",
       "      <td>4571</td>\n",
       "      <td>1344</td>\n",
       "    </tr>\n",
       "    <tr>\n",
       "      <th>63</th>\n",
       "      <td>OldTown</td>\n",
       "      <td>122250</td>\n",
       "      <td>7308</td>\n",
       "      <td>1740</td>\n",
       "    </tr>\n",
       "    <tr>\n",
       "      <th>80</th>\n",
       "      <td>OldTown</td>\n",
       "      <td>114000</td>\n",
       "      <td>4571</td>\n",
       "      <td>1232</td>\n",
       "    </tr>\n",
       "    <tr>\n",
       "      <th>110</th>\n",
       "      <td>OldTown</td>\n",
       "      <td>150000</td>\n",
       "      <td>6406</td>\n",
       "      <td>1558</td>\n",
       "    </tr>\n",
       "    <tr>\n",
       "      <th>124</th>\n",
       "      <td>OldTown</td>\n",
       "      <td>110000</td>\n",
       "      <td>3500</td>\n",
       "      <td>1284</td>\n",
       "    </tr>\n",
       "  </tbody>\n",
       "</table>\n",
       "</div>"
      ],
      "text/plain": [
       "    Neighborhood  SalePrice  Lot Area  Gr Liv Area\n",
       "16       OldTown      98000      4571         1344\n",
       "63       OldTown     122250      7308         1740\n",
       "80       OldTown     114000      4571         1232\n",
       "110      OldTown     150000      6406         1558\n",
       "124      OldTown     110000      3500         1284"
      ]
     },
     "execution_count": 334,
     "metadata": {},
     "output_type": "execute_result"
    }
   ],
   "source": [
    "train_neighborhood[(train_neighborhood['Neighborhood'] == 'OldTown')&\n",
    "                   (train_neighborhood['Lot Area'] < 8_000)].head()"
   ]
  },
  {
   "cell_type": "code",
   "execution_count": 304,
   "metadata": {},
   "outputs": [
    {
     "data": {
      "text/plain": [
       "SalePrice      198990.000000\n",
       "Lot Area        24587.333333\n",
       "Gr Liv Area      2337.666667\n",
       "dtype: float64"
      ]
     },
     "execution_count": 304,
     "metadata": {},
     "output_type": "execute_result"
    }
   ],
   "source": [
    "train_neighborhood[(train_neighborhood['Neighborhood'] == 'Edwards')&\n",
    "                   (train_neighborhood['Lot Area'] >= 16_000)].mean()"
   ]
  },
  {
   "cell_type": "code",
   "execution_count": 325,
   "metadata": {},
   "outputs": [
    {
     "data": {
      "text/html": [
       "<div>\n",
       "<style scoped>\n",
       "    .dataframe tbody tr th:only-of-type {\n",
       "        vertical-align: middle;\n",
       "    }\n",
       "\n",
       "    .dataframe tbody tr th {\n",
       "        vertical-align: top;\n",
       "    }\n",
       "\n",
       "    .dataframe thead th {\n",
       "        text-align: right;\n",
       "    }\n",
       "</style>\n",
       "<table border=\"1\" class=\"dataframe\">\n",
       "  <thead>\n",
       "    <tr style=\"text-align: right;\">\n",
       "      <th></th>\n",
       "      <th>Neighborhood</th>\n",
       "      <th>SalePrice</th>\n",
       "      <th>Lot Area</th>\n",
       "      <th>Gr Liv Area</th>\n",
       "    </tr>\n",
       "  </thead>\n",
       "  <tbody>\n",
       "    <tr>\n",
       "      <th>70</th>\n",
       "      <td>Edwards</td>\n",
       "      <td>308030</td>\n",
       "      <td>17485</td>\n",
       "      <td>1508</td>\n",
       "    </tr>\n",
       "    <tr>\n",
       "      <th>116</th>\n",
       "      <td>Edwards</td>\n",
       "      <td>149900</td>\n",
       "      <td>17755</td>\n",
       "      <td>1466</td>\n",
       "    </tr>\n",
       "    <tr>\n",
       "      <th>521</th>\n",
       "      <td>Edwards</td>\n",
       "      <td>109900</td>\n",
       "      <td>17808</td>\n",
       "      <td>1242</td>\n",
       "    </tr>\n",
       "    <tr>\n",
       "      <th>572</th>\n",
       "      <td>Edwards</td>\n",
       "      <td>130000</td>\n",
       "      <td>22692</td>\n",
       "      <td>1630</td>\n",
       "    </tr>\n",
       "    <tr>\n",
       "      <th>616</th>\n",
       "      <td>Edwards</td>\n",
       "      <td>284700</td>\n",
       "      <td>47007</td>\n",
       "      <td>3820</td>\n",
       "    </tr>\n",
       "    <tr>\n",
       "      <th>960</th>\n",
       "      <td>Edwards</td>\n",
       "      <td>160000</td>\n",
       "      <td>63887</td>\n",
       "      <td>5642</td>\n",
       "    </tr>\n",
       "    <tr>\n",
       "      <th>972</th>\n",
       "      <td>Edwards</td>\n",
       "      <td>122000</td>\n",
       "      <td>16287</td>\n",
       "      <td>1351</td>\n",
       "    </tr>\n",
       "    <tr>\n",
       "      <th>1249</th>\n",
       "      <td>Edwards</td>\n",
       "      <td>274970</td>\n",
       "      <td>19690</td>\n",
       "      <td>2201</td>\n",
       "    </tr>\n",
       "    <tr>\n",
       "      <th>1277</th>\n",
       "      <td>Edwards</td>\n",
       "      <td>135000</td>\n",
       "      <td>17140</td>\n",
       "      <td>1229</td>\n",
       "    </tr>\n",
       "    <tr>\n",
       "      <th>1360</th>\n",
       "      <td>Edwards</td>\n",
       "      <td>235000</td>\n",
       "      <td>19950</td>\n",
       "      <td>2009</td>\n",
       "    </tr>\n",
       "    <tr>\n",
       "      <th>1402</th>\n",
       "      <td>Edwards</td>\n",
       "      <td>125000</td>\n",
       "      <td>16012</td>\n",
       "      <td>1482</td>\n",
       "    </tr>\n",
       "    <tr>\n",
       "      <th>1458</th>\n",
       "      <td>Edwards</td>\n",
       "      <td>216000</td>\n",
       "      <td>17541</td>\n",
       "      <td>1325</td>\n",
       "    </tr>\n",
       "    <tr>\n",
       "      <th>1885</th>\n",
       "      <td>Edwards</td>\n",
       "      <td>183850</td>\n",
       "      <td>39290</td>\n",
       "      <td>5095</td>\n",
       "    </tr>\n",
       "    <tr>\n",
       "      <th>1897</th>\n",
       "      <td>Edwards</td>\n",
       "      <td>415000</td>\n",
       "      <td>19800</td>\n",
       "      <td>3672</td>\n",
       "    </tr>\n",
       "    <tr>\n",
       "      <th>1905</th>\n",
       "      <td>Edwards</td>\n",
       "      <td>135500</td>\n",
       "      <td>16466</td>\n",
       "      <td>1393</td>\n",
       "    </tr>\n",
       "  </tbody>\n",
       "</table>\n",
       "</div>"
      ],
      "text/plain": [
       "     Neighborhood  SalePrice  Lot Area  Gr Liv Area\n",
       "70        Edwards     308030     17485         1508\n",
       "116       Edwards     149900     17755         1466\n",
       "521       Edwards     109900     17808         1242\n",
       "572       Edwards     130000     22692         1630\n",
       "616       Edwards     284700     47007         3820\n",
       "960       Edwards     160000     63887         5642\n",
       "972       Edwards     122000     16287         1351\n",
       "1249      Edwards     274970     19690         2201\n",
       "1277      Edwards     135000     17140         1229\n",
       "1360      Edwards     235000     19950         2009\n",
       "1402      Edwards     125000     16012         1482\n",
       "1458      Edwards     216000     17541         1325\n",
       "1885      Edwards     183850     39290         5095\n",
       "1897      Edwards     415000     19800         3672\n",
       "1905      Edwards     135500     16466         1393"
      ]
     },
     "execution_count": 325,
     "metadata": {},
     "output_type": "execute_result"
    }
   ],
   "source": [
    "train_neighborhood[(train_neighborhood['Neighborhood'] == 'Edwards')&\n",
    "                   (train_neighborhood['Lot Area'] >= 16_000)]"
   ]
  },
  {
   "cell_type": "code",
   "execution_count": 305,
   "metadata": {},
   "outputs": [
    {
     "data": {
      "text/plain": [
       "SalePrice      126800.000\n",
       "Lot Area         6151.200\n",
       "Gr Liv Area      1260.725\n",
       "dtype: float64"
      ]
     },
     "execution_count": 305,
     "metadata": {},
     "output_type": "execute_result"
    }
   ],
   "source": [
    "train_neighborhood[(train_neighborhood['Neighborhood'] == 'Edwards')&\n",
    "                   (train_neighborhood['Lot Area'] < 8_000)].mean()"
   ]
  },
  {
   "cell_type": "code",
   "execution_count": 337,
   "metadata": {},
   "outputs": [
    {
     "data": {
      "text/html": [
       "<div>\n",
       "<style scoped>\n",
       "    .dataframe tbody tr th:only-of-type {\n",
       "        vertical-align: middle;\n",
       "    }\n",
       "\n",
       "    .dataframe tbody tr th {\n",
       "        vertical-align: top;\n",
       "    }\n",
       "\n",
       "    .dataframe thead th {\n",
       "        text-align: right;\n",
       "    }\n",
       "</style>\n",
       "<table border=\"1\" class=\"dataframe\">\n",
       "  <thead>\n",
       "    <tr style=\"text-align: right;\">\n",
       "      <th></th>\n",
       "      <th>Neighborhood</th>\n",
       "      <th>SalePrice</th>\n",
       "      <th>Lot Area</th>\n",
       "      <th>Gr Liv Area</th>\n",
       "    </tr>\n",
       "  </thead>\n",
       "  <tbody>\n",
       "    <tr>\n",
       "      <th>6</th>\n",
       "      <td>Edwards</td>\n",
       "      <td>140000</td>\n",
       "      <td>3675</td>\n",
       "      <td>1072</td>\n",
       "    </tr>\n",
       "    <tr>\n",
       "      <th>67</th>\n",
       "      <td>Edwards</td>\n",
       "      <td>130000</td>\n",
       "      <td>3363</td>\n",
       "      <td>1708</td>\n",
       "    </tr>\n",
       "    <tr>\n",
       "      <th>73</th>\n",
       "      <td>Edwards</td>\n",
       "      <td>137500</td>\n",
       "      <td>2522</td>\n",
       "      <td>1709</td>\n",
       "    </tr>\n",
       "    <tr>\n",
       "      <th>134</th>\n",
       "      <td>Edwards</td>\n",
       "      <td>98000</td>\n",
       "      <td>5604</td>\n",
       "      <td>864</td>\n",
       "    </tr>\n",
       "    <tr>\n",
       "      <th>146</th>\n",
       "      <td>Edwards</td>\n",
       "      <td>198500</td>\n",
       "      <td>7301</td>\n",
       "      <td>1922</td>\n",
       "    </tr>\n",
       "  </tbody>\n",
       "</table>\n",
       "</div>"
      ],
      "text/plain": [
       "    Neighborhood  SalePrice  Lot Area  Gr Liv Area\n",
       "6        Edwards     140000      3675         1072\n",
       "67       Edwards     130000      3363         1708\n",
       "73       Edwards     137500      2522         1709\n",
       "134      Edwards      98000      5604          864\n",
       "146      Edwards     198500      7301         1922"
      ]
     },
     "execution_count": 337,
     "metadata": {},
     "output_type": "execute_result"
    }
   ],
   "source": [
    "train_neighborhood[(train_neighborhood['Neighborhood'] == 'Edwards')&\n",
    "                   (train_neighborhood['Lot Area'] < 8_000)].head()"
   ]
  },
  {
   "cell_type": "code",
   "execution_count": 307,
   "metadata": {},
   "outputs": [
    {
     "data": {
      "text/plain": [
       "SalePrice      194315.135593\n",
       "Lot Area         4292.372881\n",
       "Gr Liv Area      1419.898305\n",
       "dtype: float64"
      ]
     },
     "execution_count": 307,
     "metadata": {},
     "output_type": "execute_result"
    }
   ],
   "source": [
    "train_neighborhood[(train_neighborhood['Neighborhood'] == 'Somerst')&\n",
    "                   (train_neighborhood['Lot Area'] < 8_000)].mean()"
   ]
  },
  {
   "cell_type": "code",
   "execution_count": 338,
   "metadata": {},
   "outputs": [
    {
     "data": {
      "text/html": [
       "<div>\n",
       "<style scoped>\n",
       "    .dataframe tbody tr th:only-of-type {\n",
       "        vertical-align: middle;\n",
       "    }\n",
       "\n",
       "    .dataframe tbody tr th {\n",
       "        vertical-align: top;\n",
       "    }\n",
       "\n",
       "    .dataframe thead th {\n",
       "        text-align: right;\n",
       "    }\n",
       "</style>\n",
       "<table border=\"1\" class=\"dataframe\">\n",
       "  <thead>\n",
       "    <tr style=\"text-align: right;\">\n",
       "      <th></th>\n",
       "      <th>Neighborhood</th>\n",
       "      <th>SalePrice</th>\n",
       "      <th>Lot Area</th>\n",
       "      <th>Gr Liv Area</th>\n",
       "    </tr>\n",
       "  </thead>\n",
       "  <tbody>\n",
       "    <tr>\n",
       "      <th>13</th>\n",
       "      <td>Somerst</td>\n",
       "      <td>200000</td>\n",
       "      <td>2645</td>\n",
       "      <td>1607</td>\n",
       "    </tr>\n",
       "    <tr>\n",
       "      <th>50</th>\n",
       "      <td>Somerst</td>\n",
       "      <td>166000</td>\n",
       "      <td>2998</td>\n",
       "      <td>1524</td>\n",
       "    </tr>\n",
       "    <tr>\n",
       "      <th>56</th>\n",
       "      <td>Somerst</td>\n",
       "      <td>149500</td>\n",
       "      <td>2544</td>\n",
       "      <td>1200</td>\n",
       "    </tr>\n",
       "    <tr>\n",
       "      <th>89</th>\n",
       "      <td>Somerst</td>\n",
       "      <td>155000</td>\n",
       "      <td>3215</td>\n",
       "      <td>1200</td>\n",
       "    </tr>\n",
       "    <tr>\n",
       "      <th>95</th>\n",
       "      <td>Somerst</td>\n",
       "      <td>166000</td>\n",
       "      <td>3523</td>\n",
       "      <td>1151</td>\n",
       "    </tr>\n",
       "  </tbody>\n",
       "</table>\n",
       "</div>"
      ],
      "text/plain": [
       "   Neighborhood  SalePrice  Lot Area  Gr Liv Area\n",
       "13      Somerst     200000      2645         1607\n",
       "50      Somerst     166000      2998         1524\n",
       "56      Somerst     149500      2544         1200\n",
       "89      Somerst     155000      3215         1200\n",
       "95      Somerst     166000      3523         1151"
      ]
     },
     "execution_count": 338,
     "metadata": {},
     "output_type": "execute_result"
    }
   ],
   "source": [
    "train_neighborhood[(train_neighborhood['Neighborhood'] == 'Somerst')&\n",
    "                   (train_neighborhood['Lot Area'] < 8_000)].head()"
   ]
  },
  {
   "cell_type": "code",
   "execution_count": 308,
   "metadata": {},
   "outputs": [
    {
     "data": {
      "text/plain": [
       "SalePrice      352965.9\n",
       "Lot Area        16623.5\n",
       "Gr Liv Area      2229.0\n",
       "dtype: float64"
      ]
     },
     "execution_count": 308,
     "metadata": {},
     "output_type": "execute_result"
    }
   ],
   "source": [
    "train_neighborhood[(train_neighborhood['Neighborhood'] == 'NridgHt')&\n",
    "                   (train_neighborhood['Lot Area'] >= 16_000)].mean()"
   ]
  },
  {
   "cell_type": "code",
   "execution_count": 321,
   "metadata": {},
   "outputs": [
    {
     "data": {
      "text/html": [
       "<div>\n",
       "<style scoped>\n",
       "    .dataframe tbody tr th:only-of-type {\n",
       "        vertical-align: middle;\n",
       "    }\n",
       "\n",
       "    .dataframe tbody tr th {\n",
       "        vertical-align: top;\n",
       "    }\n",
       "\n",
       "    .dataframe thead th {\n",
       "        text-align: right;\n",
       "    }\n",
       "</style>\n",
       "<table border=\"1\" class=\"dataframe\">\n",
       "  <thead>\n",
       "    <tr style=\"text-align: right;\">\n",
       "      <th></th>\n",
       "      <th>Neighborhood</th>\n",
       "      <th>SalePrice</th>\n",
       "      <th>Lot Area</th>\n",
       "      <th>Gr Liv Area</th>\n",
       "    </tr>\n",
       "  </thead>\n",
       "  <tbody>\n",
       "    <tr>\n",
       "      <th>270</th>\n",
       "      <td>NridgHt</td>\n",
       "      <td>370000</td>\n",
       "      <td>16451</td>\n",
       "      <td>2690</td>\n",
       "    </tr>\n",
       "    <tr>\n",
       "      <th>489</th>\n",
       "      <td>NridgHt</td>\n",
       "      <td>421250</td>\n",
       "      <td>16900</td>\n",
       "      <td>2649</td>\n",
       "    </tr>\n",
       "    <tr>\n",
       "      <th>620</th>\n",
       "      <td>NridgHt</td>\n",
       "      <td>296000</td>\n",
       "      <td>16870</td>\n",
       "      <td>1782</td>\n",
       "    </tr>\n",
       "    <tr>\n",
       "      <th>726</th>\n",
       "      <td>NridgHt</td>\n",
       "      <td>412083</td>\n",
       "      <td>16387</td>\n",
       "      <td>2589</td>\n",
       "    </tr>\n",
       "    <tr>\n",
       "      <th>800</th>\n",
       "      <td>NridgHt</td>\n",
       "      <td>500067</td>\n",
       "      <td>17169</td>\n",
       "      <td>2290</td>\n",
       "    </tr>\n",
       "    <tr>\n",
       "      <th>903</th>\n",
       "      <td>NridgHt</td>\n",
       "      <td>326000</td>\n",
       "      <td>16033</td>\n",
       "      <td>1850</td>\n",
       "    </tr>\n",
       "    <tr>\n",
       "      <th>1296</th>\n",
       "      <td>NridgHt</td>\n",
       "      <td>286500</td>\n",
       "      <td>16770</td>\n",
       "      <td>1712</td>\n",
       "    </tr>\n",
       "    <tr>\n",
       "      <th>1630</th>\n",
       "      <td>NridgHt</td>\n",
       "      <td>342643</td>\n",
       "      <td>16259</td>\n",
       "      <td>2596</td>\n",
       "    </tr>\n",
       "    <tr>\n",
       "      <th>1719</th>\n",
       "      <td>NridgHt</td>\n",
       "      <td>260116</td>\n",
       "      <td>16659</td>\n",
       "      <td>2152</td>\n",
       "    </tr>\n",
       "    <tr>\n",
       "      <th>1929</th>\n",
       "      <td>NridgHt</td>\n",
       "      <td>315000</td>\n",
       "      <td>16737</td>\n",
       "      <td>1980</td>\n",
       "    </tr>\n",
       "  </tbody>\n",
       "</table>\n",
       "</div>"
      ],
      "text/plain": [
       "     Neighborhood  SalePrice  Lot Area  Gr Liv Area\n",
       "270       NridgHt     370000     16451         2690\n",
       "489       NridgHt     421250     16900         2649\n",
       "620       NridgHt     296000     16870         1782\n",
       "726       NridgHt     412083     16387         2589\n",
       "800       NridgHt     500067     17169         2290\n",
       "903       NridgHt     326000     16033         1850\n",
       "1296      NridgHt     286500     16770         1712\n",
       "1630      NridgHt     342643     16259         2596\n",
       "1719      NridgHt     260116     16659         2152\n",
       "1929      NridgHt     315000     16737         1980"
      ]
     },
     "execution_count": 321,
     "metadata": {},
     "output_type": "execute_result"
    }
   ],
   "source": [
    "train_neighborhood[(train_neighborhood['Neighborhood'] == 'NridgHt')&\n",
    "                   (train_neighborhood['Lot Area'] >= 16_000)]"
   ]
  },
  {
   "cell_type": "code",
   "execution_count": 309,
   "metadata": {},
   "outputs": [
    {
     "data": {
      "text/plain": [
       "SalePrice      222822.500000\n",
       "Lot Area         5612.541667\n",
       "Gr Liv Area      1467.916667\n",
       "dtype: float64"
      ]
     },
     "execution_count": 309,
     "metadata": {},
     "output_type": "execute_result"
    }
   ],
   "source": [
    "train_neighborhood[(train_neighborhood['Neighborhood'] == 'NridgHt')&\n",
    "                   (train_neighborhood['Lot Area'] < 8_000)].mean()"
   ]
  },
  {
   "cell_type": "code",
   "execution_count": 339,
   "metadata": {},
   "outputs": [
    {
     "data": {
      "text/html": [
       "<div>\n",
       "<style scoped>\n",
       "    .dataframe tbody tr th:only-of-type {\n",
       "        vertical-align: middle;\n",
       "    }\n",
       "\n",
       "    .dataframe tbody tr th {\n",
       "        vertical-align: top;\n",
       "    }\n",
       "\n",
       "    .dataframe thead th {\n",
       "        text-align: right;\n",
       "    }\n",
       "</style>\n",
       "<table border=\"1\" class=\"dataframe\">\n",
       "  <thead>\n",
       "    <tr style=\"text-align: right;\">\n",
       "      <th></th>\n",
       "      <th>Neighborhood</th>\n",
       "      <th>SalePrice</th>\n",
       "      <th>Lot Area</th>\n",
       "      <th>Gr Liv Area</th>\n",
       "    </tr>\n",
       "  </thead>\n",
       "  <tbody>\n",
       "    <tr>\n",
       "      <th>49</th>\n",
       "      <td>NridgHt</td>\n",
       "      <td>155000</td>\n",
       "      <td>2448</td>\n",
       "      <td>1626</td>\n",
       "    </tr>\n",
       "    <tr>\n",
       "      <th>85</th>\n",
       "      <td>NridgHt</td>\n",
       "      <td>310090</td>\n",
       "      <td>6373</td>\n",
       "      <td>1666</td>\n",
       "    </tr>\n",
       "    <tr>\n",
       "      <th>98</th>\n",
       "      <td>NridgHt</td>\n",
       "      <td>277500</td>\n",
       "      <td>7313</td>\n",
       "      <td>1561</td>\n",
       "    </tr>\n",
       "    <tr>\n",
       "      <th>109</th>\n",
       "      <td>NridgHt</td>\n",
       "      <td>175500</td>\n",
       "      <td>2628</td>\n",
       "      <td>1626</td>\n",
       "    </tr>\n",
       "    <tr>\n",
       "      <th>137</th>\n",
       "      <td>NridgHt</td>\n",
       "      <td>209500</td>\n",
       "      <td>4590</td>\n",
       "      <td>1554</td>\n",
       "    </tr>\n",
       "  </tbody>\n",
       "</table>\n",
       "</div>"
      ],
      "text/plain": [
       "    Neighborhood  SalePrice  Lot Area  Gr Liv Area\n",
       "49       NridgHt     155000      2448         1626\n",
       "85       NridgHt     310090      6373         1666\n",
       "98       NridgHt     277500      7313         1561\n",
       "109      NridgHt     175500      2628         1626\n",
       "137      NridgHt     209500      4590         1554"
      ]
     },
     "execution_count": 339,
     "metadata": {},
     "output_type": "execute_result"
    }
   ],
   "source": [
    "train_neighborhood[(train_neighborhood['Neighborhood'] == 'NridgHt')&\n",
    "                   (train_neighborhood['Lot Area'] < 8_000)].head()"
   ]
  },
  {
   "cell_type": "code",
   "execution_count": 319,
   "metadata": {},
   "outputs": [
    {
     "data": {
      "text/plain": [
       "SalePrice      179427.111111\n",
       "Lot Area        26944.666667\n",
       "Gr Liv Area      1447.777778\n",
       "dtype: float64"
      ]
     },
     "execution_count": 319,
     "metadata": {},
     "output_type": "execute_result"
    }
   ],
   "source": [
    "train_neighborhood[(train_neighborhood['Neighborhood'] == 'Gilbert')&\n",
    "                   (train_neighborhood['Lot Area'] >= 16_000)].mean()"
   ]
  },
  {
   "cell_type": "code",
   "execution_count": 318,
   "metadata": {},
   "outputs": [
    {
     "data": {
      "text/html": [
       "<div>\n",
       "<style scoped>\n",
       "    .dataframe tbody tr th:only-of-type {\n",
       "        vertical-align: middle;\n",
       "    }\n",
       "\n",
       "    .dataframe tbody tr th {\n",
       "        vertical-align: top;\n",
       "    }\n",
       "\n",
       "    .dataframe thead th {\n",
       "        text-align: right;\n",
       "    }\n",
       "</style>\n",
       "<table border=\"1\" class=\"dataframe\">\n",
       "  <thead>\n",
       "    <tr style=\"text-align: right;\">\n",
       "      <th></th>\n",
       "      <th>Neighborhood</th>\n",
       "      <th>SalePrice</th>\n",
       "      <th>Lot Area</th>\n",
       "      <th>Gr Liv Area</th>\n",
       "    </tr>\n",
       "  </thead>\n",
       "  <tbody>\n",
       "    <tr>\n",
       "      <th>24</th>\n",
       "      <td>Gilbert</td>\n",
       "      <td>145000</td>\n",
       "      <td>34650</td>\n",
       "      <td>1056</td>\n",
       "    </tr>\n",
       "    <tr>\n",
       "      <th>140</th>\n",
       "      <td>Gilbert</td>\n",
       "      <td>141000</td>\n",
       "      <td>19138</td>\n",
       "      <td>864</td>\n",
       "    </tr>\n",
       "    <tr>\n",
       "      <th>441</th>\n",
       "      <td>Gilbert</td>\n",
       "      <td>155000</td>\n",
       "      <td>41600</td>\n",
       "      <td>1424</td>\n",
       "    </tr>\n",
       "    <tr>\n",
       "      <th>556</th>\n",
       "      <td>Gilbert</td>\n",
       "      <td>199500</td>\n",
       "      <td>18494</td>\n",
       "      <td>1324</td>\n",
       "    </tr>\n",
       "    <tr>\n",
       "      <th>886</th>\n",
       "      <td>Gilbert</td>\n",
       "      <td>175000</td>\n",
       "      <td>21872</td>\n",
       "      <td>1446</td>\n",
       "    </tr>\n",
       "    <tr>\n",
       "      <th>1155</th>\n",
       "      <td>Gilbert</td>\n",
       "      <td>192140</td>\n",
       "      <td>21930</td>\n",
       "      <td>1838</td>\n",
       "    </tr>\n",
       "    <tr>\n",
       "      <th>1167</th>\n",
       "      <td>Gilbert</td>\n",
       "      <td>133000</td>\n",
       "      <td>47280</td>\n",
       "      <td>1488</td>\n",
       "    </tr>\n",
       "    <tr>\n",
       "      <th>1224</th>\n",
       "      <td>Gilbert</td>\n",
       "      <td>154204</td>\n",
       "      <td>18160</td>\n",
       "      <td>1128</td>\n",
       "    </tr>\n",
       "    <tr>\n",
       "      <th>1739</th>\n",
       "      <td>Gilbert</td>\n",
       "      <td>320000</td>\n",
       "      <td>19378</td>\n",
       "      <td>2462</td>\n",
       "    </tr>\n",
       "  </tbody>\n",
       "</table>\n",
       "</div>"
      ],
      "text/plain": [
       "     Neighborhood  SalePrice  Lot Area  Gr Liv Area\n",
       "24        Gilbert     145000     34650         1056\n",
       "140       Gilbert     141000     19138          864\n",
       "441       Gilbert     155000     41600         1424\n",
       "556       Gilbert     199500     18494         1324\n",
       "886       Gilbert     175000     21872         1446\n",
       "1155      Gilbert     192140     21930         1838\n",
       "1167      Gilbert     133000     47280         1488\n",
       "1224      Gilbert     154204     18160         1128\n",
       "1739      Gilbert     320000     19378         2462"
      ]
     },
     "execution_count": 318,
     "metadata": {},
     "output_type": "execute_result"
    }
   ],
   "source": [
    "train_neighborhood[(train_neighborhood['Neighborhood'] == 'Gilbert')&\n",
    "                   (train_neighborhood['Lot Area'] >= 16_000)]"
   ]
  },
  {
   "cell_type": "code",
   "execution_count": 311,
   "metadata": {},
   "outputs": [
    {
     "data": {
      "text/plain": [
       "SalePrice      183661.619048\n",
       "Lot Area         7753.809524\n",
       "Gr Liv Area      1567.476190\n",
       "dtype: float64"
      ]
     },
     "execution_count": 311,
     "metadata": {},
     "output_type": "execute_result"
    }
   ],
   "source": [
    "train_neighborhood[(train_neighborhood['Neighborhood'] == 'Gilbert')&\n",
    "                   (train_neighborhood['Lot Area'] < 8_000)].mean()"
   ]
  },
  {
   "cell_type": "code",
   "execution_count": 312,
   "metadata": {},
   "outputs": [
    {
     "data": {
      "text/plain": [
       "SalePrice      146500.000000\n",
       "Lot Area        19615.833333\n",
       "Gr Liv Area      1671.333333\n",
       "dtype: float64"
      ]
     },
     "execution_count": 312,
     "metadata": {},
     "output_type": "execute_result"
    }
   ],
   "source": [
    "train_neighborhood[(train_neighborhood['Neighborhood'] == 'Sawyer')&\n",
    "                   (train_neighborhood['Lot Area'] >= 16_000)].mean()"
   ]
  },
  {
   "cell_type": "code",
   "execution_count": 340,
   "metadata": {},
   "outputs": [
    {
     "data": {
      "text/html": [
       "<div>\n",
       "<style scoped>\n",
       "    .dataframe tbody tr th:only-of-type {\n",
       "        vertical-align: middle;\n",
       "    }\n",
       "\n",
       "    .dataframe tbody tr th {\n",
       "        vertical-align: top;\n",
       "    }\n",
       "\n",
       "    .dataframe thead th {\n",
       "        text-align: right;\n",
       "    }\n",
       "</style>\n",
       "<table border=\"1\" class=\"dataframe\">\n",
       "  <thead>\n",
       "    <tr style=\"text-align: right;\">\n",
       "      <th></th>\n",
       "      <th>Neighborhood</th>\n",
       "      <th>SalePrice</th>\n",
       "      <th>Lot Area</th>\n",
       "      <th>Gr Liv Area</th>\n",
       "    </tr>\n",
       "  </thead>\n",
       "  <tbody>\n",
       "    <tr>\n",
       "      <th>76</th>\n",
       "      <td>Sawyer</td>\n",
       "      <td>105000</td>\n",
       "      <td>17529</td>\n",
       "      <td>872</td>\n",
       "    </tr>\n",
       "    <tr>\n",
       "      <th>160</th>\n",
       "      <td>Sawyer</td>\n",
       "      <td>112000</td>\n",
       "      <td>25339</td>\n",
       "      <td>1416</td>\n",
       "    </tr>\n",
       "    <tr>\n",
       "      <th>765</th>\n",
       "      <td>Sawyer</td>\n",
       "      <td>190000</td>\n",
       "      <td>18890</td>\n",
       "      <td>2620</td>\n",
       "    </tr>\n",
       "    <tr>\n",
       "      <th>1009</th>\n",
       "      <td>Sawyer</td>\n",
       "      <td>171000</td>\n",
       "      <td>16647</td>\n",
       "      <td>1701</td>\n",
       "    </tr>\n",
       "    <tr>\n",
       "      <th>1174</th>\n",
       "      <td>Sawyer</td>\n",
       "      <td>170000</td>\n",
       "      <td>17920</td>\n",
       "      <td>1779</td>\n",
       "    </tr>\n",
       "    <tr>\n",
       "      <th>1481</th>\n",
       "      <td>Sawyer</td>\n",
       "      <td>131000</td>\n",
       "      <td>21370</td>\n",
       "      <td>1640</td>\n",
       "    </tr>\n",
       "  </tbody>\n",
       "</table>\n",
       "</div>"
      ],
      "text/plain": [
       "     Neighborhood  SalePrice  Lot Area  Gr Liv Area\n",
       "76         Sawyer     105000     17529          872\n",
       "160        Sawyer     112000     25339         1416\n",
       "765        Sawyer     190000     18890         2620\n",
       "1009       Sawyer     171000     16647         1701\n",
       "1174       Sawyer     170000     17920         1779\n",
       "1481       Sawyer     131000     21370         1640"
      ]
     },
     "execution_count": 340,
     "metadata": {},
     "output_type": "execute_result"
    }
   ],
   "source": [
    "train_neighborhood[(train_neighborhood['Neighborhood'] == 'Sawyer')&\n",
    "                   (train_neighborhood['Lot Area'] >= 16_000)]"
   ]
  },
  {
   "cell_type": "code",
   "execution_count": 313,
   "metadata": {},
   "outputs": [
    {
     "data": {
      "text/plain": [
       "SalePrice      133176.086957\n",
       "Lot Area         7146.130435\n",
       "Gr Liv Area      1019.434783\n",
       "dtype: float64"
      ]
     },
     "execution_count": 313,
     "metadata": {},
     "output_type": "execute_result"
    }
   ],
   "source": [
    "train_neighborhood[(train_neighborhood['Neighborhood'] == 'Sawyer')&\n",
    "                   (train_neighborhood['Lot Area'] < 8_000)].mean()"
   ]
  },
  {
   "cell_type": "code",
   "execution_count": 342,
   "metadata": {},
   "outputs": [
    {
     "data": {
      "text/html": [
       "<div>\n",
       "<style scoped>\n",
       "    .dataframe tbody tr th:only-of-type {\n",
       "        vertical-align: middle;\n",
       "    }\n",
       "\n",
       "    .dataframe tbody tr th {\n",
       "        vertical-align: top;\n",
       "    }\n",
       "\n",
       "    .dataframe thead th {\n",
       "        text-align: right;\n",
       "    }\n",
       "</style>\n",
       "<table border=\"1\" class=\"dataframe\">\n",
       "  <thead>\n",
       "    <tr style=\"text-align: right;\">\n",
       "      <th></th>\n",
       "      <th>Neighborhood</th>\n",
       "      <th>SalePrice</th>\n",
       "      <th>Lot Area</th>\n",
       "      <th>Gr Liv Area</th>\n",
       "    </tr>\n",
       "  </thead>\n",
       "  <tbody>\n",
       "    <tr>\n",
       "      <th>136</th>\n",
       "      <td>Sawyer</td>\n",
       "      <td>94000</td>\n",
       "      <td>6342</td>\n",
       "      <td>1020</td>\n",
       "    </tr>\n",
       "    <tr>\n",
       "      <th>142</th>\n",
       "      <td>Sawyer</td>\n",
       "      <td>127000</td>\n",
       "      <td>6897</td>\n",
       "      <td>1040</td>\n",
       "    </tr>\n",
       "    <tr>\n",
       "      <th>169</th>\n",
       "      <td>Sawyer</td>\n",
       "      <td>152000</td>\n",
       "      <td>7400</td>\n",
       "      <td>1126</td>\n",
       "    </tr>\n",
       "    <tr>\n",
       "      <th>329</th>\n",
       "      <td>Sawyer</td>\n",
       "      <td>145000</td>\n",
       "      <td>7476</td>\n",
       "      <td>1040</td>\n",
       "    </tr>\n",
       "    <tr>\n",
       "      <th>351</th>\n",
       "      <td>Sawyer</td>\n",
       "      <td>88750</td>\n",
       "      <td>4280</td>\n",
       "      <td>704</td>\n",
       "    </tr>\n",
       "  </tbody>\n",
       "</table>\n",
       "</div>"
      ],
      "text/plain": [
       "    Neighborhood  SalePrice  Lot Area  Gr Liv Area\n",
       "136       Sawyer      94000      6342         1020\n",
       "142       Sawyer     127000      6897         1040\n",
       "169       Sawyer     152000      7400         1126\n",
       "329       Sawyer     145000      7476         1040\n",
       "351       Sawyer      88750      4280          704"
      ]
     },
     "execution_count": 342,
     "metadata": {},
     "output_type": "execute_result"
    }
   ],
   "source": [
    "train_neighborhood[(train_neighborhood['Neighborhood'] == 'Sawyer')&\n",
    "                   (train_neighborhood['Lot Area'] < 8_000)].head()"
   ]
  },
  {
   "cell_type": "code",
   "execution_count": 296,
   "metadata": {},
   "outputs": [
    {
     "data": {
      "text/plain": [
       "NAmes      310\n",
       "CollgCr    180\n",
       "OldTown    163\n",
       "Edwards    143\n",
       "Somerst    130\n",
       "NridgHt    122\n",
       "Gilbert    116\n",
       "Sawyer     111\n",
       "NWAmes      87\n",
       "SawyerW     87\n",
       "Mitchel     82\n",
       "BrkSide     76\n",
       "Crawfor     71\n",
       "IDOTRR      69\n",
       "NoRidge     48\n",
       "Timber      48\n",
       "StoneBr     38\n",
       "SWISU       32\n",
       "ClearCr     27\n",
       "MeadowV     24\n",
       "Blmngtn     22\n",
       "BrDale      19\n",
       "Veenker     17\n",
       "NPkVill     17\n",
       "Blueste      6\n",
       "Greens       3\n",
       "GrnHill      2\n",
       "Landmrk      1\n",
       "Name: Neighborhood, dtype: int64"
      ]
     },
     "execution_count": 296,
     "metadata": {},
     "output_type": "execute_result"
    }
   ],
   "source": [
    "train_neighborhood['Neighborhood'].sort_values().value_counts()"
   ]
  },
  {
   "cell_type": "code",
   "execution_count": 297,
   "metadata": {},
   "outputs": [
    {
     "data": {
      "text/plain": [
       "SalePrice      181469.701609\n",
       "Lot Area        10065.208191\n",
       "Gr Liv Area      1499.330083\n",
       "dtype: float64"
      ]
     },
     "execution_count": 297,
     "metadata": {},
     "output_type": "execute_result"
    }
   ],
   "source": [
    "train_neighborhood.sort_values('Neighborhood')"
   ]
  },
  {
   "cell_type": "code",
   "execution_count": null,
   "metadata": {},
   "outputs": [],
   "source": [
    "# https://www.byoh.com/costtobuildiniowa.htm\n",
    "# average current cost of building a 2650 sqft home with 2 fireplaces"
   ]
  },
  {
   "cell_type": "code",
   "execution_count": null,
   "metadata": {},
   "outputs": [],
   "source": [
    "# https://www.reddit.com/r/Infographics/comments/9ln0y6/the_average_yard_size_of_each_state/\n",
    "# visual of shrinking yards"
   ]
  },
  {
   "cell_type": "code",
   "execution_count": null,
   "metadata": {},
   "outputs": [],
   "source": [
    "# https://www.google.com/travel/things-to-do/see-all?g2lb=2502405%2C2502548%2C4208993%2C4254308%2C4258168%2C4260007%2C4270442%2C4274032%2C4291318%2C4305595%2C4308216%2C4314846%2C4315873%2C4317915%2C4324293%2C4328159%2C4329288%2C4330113%2C4340162%2C4270859%2C4284970%2C4291517%2C4292955%2C4316256&hl=en&gl=us&un=1&otf=1&dest_mid=%2Fm%2F0nmj&dest_state_type=sattd&dest_src=ts&sa=X\n",
    "# things to do in Ames"
   ]
  },
  {
   "cell_type": "code",
   "execution_count": null,
   "metadata": {},
   "outputs": [],
   "source": [
    "# https://www.multifamily.loans/apartment-finance-blog/multifamily-construction-costs-an-investor-guide\n",
    "# cost of building multi family homes"
   ]
  },
  {
   "cell_type": "code",
   "execution_count": null,
   "metadata": {},
   "outputs": [],
   "source": [
    "# https://www.bestplaces.net/economy/city/iowa/ames\n",
    "# stats on Ames"
   ]
  },
  {
   "cell_type": "code",
   "execution_count": null,
   "metadata": {},
   "outputs": [],
   "source": [
    "# https://livingwage.mit.edu/states/19\n",
    "# typical salaries"
   ]
  },
  {
   "cell_type": "code",
   "execution_count": null,
   "metadata": {},
   "outputs": [],
   "source": [
    "# https://forums.jlconline.com/forums/forum/jlc-online-expert-forums/estimating-markup/18675-new-construction-markup-vs-remodeling-markup\n",
    "# mark up on construction"
   ]
  },
  {
   "cell_type": "code",
   "execution_count": null,
   "metadata": {},
   "outputs": [],
   "source": [
    "# https://en.wikipedia.org/wiki/Ames,_Iowa#Campustown\n",
    "# wiki info"
   ]
  }
 ],
 "metadata": {
  "kernelspec": {
   "display_name": "Python 3",
   "language": "python",
   "name": "python3"
  },
  "language_info": {
   "codemirror_mode": {
    "name": "ipython",
    "version": 3
   },
   "file_extension": ".py",
   "mimetype": "text/x-python",
   "name": "python",
   "nbconvert_exporter": "python",
   "pygments_lexer": "ipython3",
   "version": "3.7.3"
  }
 },
 "nbformat": 4,
 "nbformat_minor": 2
}
